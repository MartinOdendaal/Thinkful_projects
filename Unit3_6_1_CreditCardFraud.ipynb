{
 "cells": [
  {
   "cell_type": "markdown",
   "metadata": {},
   "source": [
    "# Credit Card Fraud\n",
    "\n",
    "Using [this credit card fraud dataset](https://www.kaggle.com/mlg-ulb/creditcardfraud/kernels) develop an algorithm to predict fraud. Prioritize correctly finding fraud rather than correctly labeling non-fraudulent transactions."
   ]
  },
  {
   "cell_type": "code",
   "execution_count": 1,
   "metadata": {
    "collapsed": true
   },
   "outputs": [],
   "source": [
    "# The basics\n",
    "import pandas as pd\n",
    "import numpy as np\n",
    "import matplotlib.pyplot as plt\n",
    "%matplotlib inline\n",
    "import seaborn as sns"
   ]
  },
  {
   "cell_type": "code",
   "execution_count": 2,
   "metadata": {},
   "outputs": [
    {
     "data": {
      "text/html": [
       "<div>\n",
       "<style>\n",
       "    .dataframe thead tr:only-child th {\n",
       "        text-align: right;\n",
       "    }\n",
       "\n",
       "    .dataframe thead th {\n",
       "        text-align: left;\n",
       "    }\n",
       "\n",
       "    .dataframe tbody tr th {\n",
       "        vertical-align: top;\n",
       "    }\n",
       "</style>\n",
       "<table border=\"1\" class=\"dataframe\">\n",
       "  <thead>\n",
       "    <tr style=\"text-align: right;\">\n",
       "      <th></th>\n",
       "      <th>Time</th>\n",
       "      <th>V1</th>\n",
       "      <th>V2</th>\n",
       "      <th>V3</th>\n",
       "      <th>V4</th>\n",
       "      <th>V5</th>\n",
       "      <th>V6</th>\n",
       "      <th>V7</th>\n",
       "      <th>V8</th>\n",
       "      <th>V9</th>\n",
       "      <th>...</th>\n",
       "      <th>V21</th>\n",
       "      <th>V22</th>\n",
       "      <th>V23</th>\n",
       "      <th>V24</th>\n",
       "      <th>V25</th>\n",
       "      <th>V26</th>\n",
       "      <th>V27</th>\n",
       "      <th>V28</th>\n",
       "      <th>Amount</th>\n",
       "      <th>Class</th>\n",
       "    </tr>\n",
       "  </thead>\n",
       "  <tbody>\n",
       "    <tr>\n",
       "      <th>0</th>\n",
       "      <td>0.0</td>\n",
       "      <td>-1.359807</td>\n",
       "      <td>-0.072781</td>\n",
       "      <td>2.536347</td>\n",
       "      <td>1.378155</td>\n",
       "      <td>-0.338321</td>\n",
       "      <td>0.462388</td>\n",
       "      <td>0.239599</td>\n",
       "      <td>0.098698</td>\n",
       "      <td>0.363787</td>\n",
       "      <td>...</td>\n",
       "      <td>-0.018307</td>\n",
       "      <td>0.277838</td>\n",
       "      <td>-0.110474</td>\n",
       "      <td>0.066928</td>\n",
       "      <td>0.128539</td>\n",
       "      <td>-0.189115</td>\n",
       "      <td>0.133558</td>\n",
       "      <td>-0.021053</td>\n",
       "      <td>149.62</td>\n",
       "      <td>0</td>\n",
       "    </tr>\n",
       "    <tr>\n",
       "      <th>1</th>\n",
       "      <td>0.0</td>\n",
       "      <td>1.191857</td>\n",
       "      <td>0.266151</td>\n",
       "      <td>0.166480</td>\n",
       "      <td>0.448154</td>\n",
       "      <td>0.060018</td>\n",
       "      <td>-0.082361</td>\n",
       "      <td>-0.078803</td>\n",
       "      <td>0.085102</td>\n",
       "      <td>-0.255425</td>\n",
       "      <td>...</td>\n",
       "      <td>-0.225775</td>\n",
       "      <td>-0.638672</td>\n",
       "      <td>0.101288</td>\n",
       "      <td>-0.339846</td>\n",
       "      <td>0.167170</td>\n",
       "      <td>0.125895</td>\n",
       "      <td>-0.008983</td>\n",
       "      <td>0.014724</td>\n",
       "      <td>2.69</td>\n",
       "      <td>0</td>\n",
       "    </tr>\n",
       "    <tr>\n",
       "      <th>2</th>\n",
       "      <td>1.0</td>\n",
       "      <td>-1.358354</td>\n",
       "      <td>-1.340163</td>\n",
       "      <td>1.773209</td>\n",
       "      <td>0.379780</td>\n",
       "      <td>-0.503198</td>\n",
       "      <td>1.800499</td>\n",
       "      <td>0.791461</td>\n",
       "      <td>0.247676</td>\n",
       "      <td>-1.514654</td>\n",
       "      <td>...</td>\n",
       "      <td>0.247998</td>\n",
       "      <td>0.771679</td>\n",
       "      <td>0.909412</td>\n",
       "      <td>-0.689281</td>\n",
       "      <td>-0.327642</td>\n",
       "      <td>-0.139097</td>\n",
       "      <td>-0.055353</td>\n",
       "      <td>-0.059752</td>\n",
       "      <td>378.66</td>\n",
       "      <td>0</td>\n",
       "    </tr>\n",
       "    <tr>\n",
       "      <th>3</th>\n",
       "      <td>1.0</td>\n",
       "      <td>-0.966272</td>\n",
       "      <td>-0.185226</td>\n",
       "      <td>1.792993</td>\n",
       "      <td>-0.863291</td>\n",
       "      <td>-0.010309</td>\n",
       "      <td>1.247203</td>\n",
       "      <td>0.237609</td>\n",
       "      <td>0.377436</td>\n",
       "      <td>-1.387024</td>\n",
       "      <td>...</td>\n",
       "      <td>-0.108300</td>\n",
       "      <td>0.005274</td>\n",
       "      <td>-0.190321</td>\n",
       "      <td>-1.175575</td>\n",
       "      <td>0.647376</td>\n",
       "      <td>-0.221929</td>\n",
       "      <td>0.062723</td>\n",
       "      <td>0.061458</td>\n",
       "      <td>123.50</td>\n",
       "      <td>0</td>\n",
       "    </tr>\n",
       "    <tr>\n",
       "      <th>4</th>\n",
       "      <td>2.0</td>\n",
       "      <td>-1.158233</td>\n",
       "      <td>0.877737</td>\n",
       "      <td>1.548718</td>\n",
       "      <td>0.403034</td>\n",
       "      <td>-0.407193</td>\n",
       "      <td>0.095921</td>\n",
       "      <td>0.592941</td>\n",
       "      <td>-0.270533</td>\n",
       "      <td>0.817739</td>\n",
       "      <td>...</td>\n",
       "      <td>-0.009431</td>\n",
       "      <td>0.798278</td>\n",
       "      <td>-0.137458</td>\n",
       "      <td>0.141267</td>\n",
       "      <td>-0.206010</td>\n",
       "      <td>0.502292</td>\n",
       "      <td>0.219422</td>\n",
       "      <td>0.215153</td>\n",
       "      <td>69.99</td>\n",
       "      <td>0</td>\n",
       "    </tr>\n",
       "  </tbody>\n",
       "</table>\n",
       "<p>5 rows × 31 columns</p>\n",
       "</div>"
      ],
      "text/plain": [
       "   Time        V1        V2        V3        V4        V5        V6        V7  \\\n",
       "0   0.0 -1.359807 -0.072781  2.536347  1.378155 -0.338321  0.462388  0.239599   \n",
       "1   0.0  1.191857  0.266151  0.166480  0.448154  0.060018 -0.082361 -0.078803   \n",
       "2   1.0 -1.358354 -1.340163  1.773209  0.379780 -0.503198  1.800499  0.791461   \n",
       "3   1.0 -0.966272 -0.185226  1.792993 -0.863291 -0.010309  1.247203  0.237609   \n",
       "4   2.0 -1.158233  0.877737  1.548718  0.403034 -0.407193  0.095921  0.592941   \n",
       "\n",
       "         V8        V9  ...         V21       V22       V23       V24  \\\n",
       "0  0.098698  0.363787  ...   -0.018307  0.277838 -0.110474  0.066928   \n",
       "1  0.085102 -0.255425  ...   -0.225775 -0.638672  0.101288 -0.339846   \n",
       "2  0.247676 -1.514654  ...    0.247998  0.771679  0.909412 -0.689281   \n",
       "3  0.377436 -1.387024  ...   -0.108300  0.005274 -0.190321 -1.175575   \n",
       "4 -0.270533  0.817739  ...   -0.009431  0.798278 -0.137458  0.141267   \n",
       "\n",
       "        V25       V26       V27       V28  Amount  Class  \n",
       "0  0.128539 -0.189115  0.133558 -0.021053  149.62      0  \n",
       "1  0.167170  0.125895 -0.008983  0.014724    2.69      0  \n",
       "2 -0.327642 -0.139097 -0.055353 -0.059752  378.66      0  \n",
       "3  0.647376 -0.221929  0.062723  0.061458  123.50      0  \n",
       "4 -0.206010  0.502292  0.219422  0.215153   69.99      0  \n",
       "\n",
       "[5 rows x 31 columns]"
      ]
     },
     "execution_count": 2,
     "metadata": {},
     "output_type": "execute_result"
    }
   ],
   "source": [
    "creditcard = pd.read_csv('C:\\\\Users\\\\User\\\\Documents\\\\Python_scripts\\\\Thinkful\\\\creditcard.csv')\n",
    "creditcard.head()"
   ]
  },
  {
   "cell_type": "markdown",
   "metadata": {},
   "source": [
    "## Exploring the data"
   ]
  },
  {
   "cell_type": "code",
   "execution_count": 167,
   "metadata": {},
   "outputs": [
    {
     "data": {
      "text/plain": [
       "0    284315\n",
       "1       492\n",
       "Name: Class, dtype: int64"
      ]
     },
     "execution_count": 167,
     "metadata": {},
     "output_type": "execute_result"
    }
   ],
   "source": [
    "creditcard.Class.value_counts()"
   ]
  },
  {
   "cell_type": "markdown",
   "metadata": {},
   "source": [
    "The datasets contains transactions made by credit cards in September 2013 by European cardholders. This dataset presents transactions that occurred in two days, where we have 492 frauds out of 284,807 transactions. The dataset is highly unbalanced, the positive class (frauds) account for 0.172% of all transactions.\n",
    "\n",
    "It contains only numerical input variables which are the result of a PCA transformation. Unfortunately, due to confidentiality issues, we cannot provide the original features and more background information about the data. Features V1, V2, ... V28 are the principal components obtained with PCA, the only features which have not been transformed with PCA are 'Time' and 'Amount'. Feature 'Time' contains the seconds elapsed between each transaction and the first transaction in the dataset. The feature 'Amount' is the transaction Amount, this feature can be used for example-dependant cost-senstive learning. Feature 'Class' is the response variable and it takes value 1 in case of fraud and 0 otherwise."
   ]
  },
  {
   "cell_type": "code",
   "execution_count": 23,
   "metadata": {},
   "outputs": [
    {
     "data": {
      "image/png": "[encoded data removed]",
      "text/plain": [
       "<matplotlib.figure.Figure at 0x2a282b6fc18>"
      ]
     },
     "metadata": {},
     "output_type": "display_data"
    }
   ],
   "source": [
    "sns.set_style('whitegrid')\n",
    "plt.figure(figsize=(20,15))\n",
    "plt.subplot(221)\n",
    "sns.boxplot(y = 'V1', data=creditcard)\n",
    "plt.title('V1')\n",
    "plt.subplot(222)\n",
    "sns.boxplot(y = 'V2', data=creditcard)\n",
    "plt.title('V2')\n",
    "plt.subplot(223)\n",
    "sns.boxplot(y = 'V3', data=creditcard)\n",
    "plt.title('V3')\n",
    "plt.subplot(224)\n",
    "sns.boxplot(y = 'V4', data=creditcard)\n",
    "plt.title('V4')\n",
    "plt.subplots_adjust(top=0.92, bottom=0.08, left=0.10, right=0.95, hspace=0.25,\n",
    "                    wspace=0.35)\n",
    "plt.show()"
   ]
  },
  {
   "cell_type": "markdown",
   "metadata": {},
   "source": [
    "PCA features (V1 - V28) are already centered and standardized (because the principle components have to be centered and standardized before the transformation occurs).\n",
    "\n",
    "Amount and Time are the only two components with different means and standard deviations. "
   ]
  },
  {
   "cell_type": "markdown",
   "metadata": {},
   "source": [
    "Features are centered, but contain several outliers."
   ]
  },
  {
   "cell_type": "code",
   "execution_count": 60,
   "metadata": {},
   "outputs": [
    {
     "data": {
      "text/plain": [
       "<matplotlib.axes._subplots.AxesSubplot at 0x2a2852de358>"
      ]
     },
     "execution_count": 60,
     "metadata": {},
     "output_type": "execute_result"
    },
    {
     "data": {
      "image/png": "[encoded data removed]",
      "text/plain": [
       "<matplotlib.figure.Figure at 0x2a282c4cbe0>"
      ]
     },
     "metadata": {},
     "output_type": "display_data"
    }
   ],
   "source": [
    "sns.boxplot(creditcard.Amount)"
   ]
  },
  {
   "cell_type": "code",
   "execution_count": 37,
   "metadata": {},
   "outputs": [
    {
     "data": {
      "text/plain": [
       "<matplotlib.axes._subplots.AxesSubplot at 0x2a284f89c18>"
      ]
     },
     "execution_count": 37,
     "metadata": {},
     "output_type": "execute_result"
    },
    {
     "data": {
      "image/png": "[encoded data removed]",
      "text/plain": [
       "<matplotlib.figure.Figure at 0x2a2843212b0>"
      ]
     },
     "metadata": {},
     "output_type": "display_data"
    }
   ],
   "source": [
    "# Checking correlations\n",
    "corrs = creditcard.corr()\n",
    "sns.heatmap(corrs)"
   ]
  },
  {
   "cell_type": "code",
   "execution_count": 74,
   "metadata": {
    "collapsed": true
   },
   "outputs": [],
   "source": [
    "from sklearn import preprocessing\n",
    "from sklearn import model_selection\n",
    "\n",
    "# Scale using RobustScale to account for outliers in Amount\n",
    "scaler = preprocessing.RobustScaler()\n",
    "norm = scaler.fit_transform(creditcard.loc[:,['Amount', 'Time']])\n",
    "norm = pd.DataFrame(norm, columns=['Amount', 'Time'])\n",
    "\n",
    "# Get data into the right shape, drop Amount, Time, Class\n",
    "credit = creditcard.loc[:, ~((creditcard.columns).isin(['Amount', 'Time', 'Class']))]\n",
    "\n",
    "# Add transformed Amount and Time for final features (X) and create outcome (Y)\n",
    "X = pd.concat([credit, norm], axis=1)\n",
    "y = creditcard['Class']\n",
    "\n",
    "# Split on X and y, stratifying on y\n",
    "X_train, X_test, y_train, y_test = model_selection.train_test_split(X, y, stratify=y)"
   ]
  },
  {
   "cell_type": "code",
   "execution_count": 75,
   "metadata": {},
   "outputs": [
    {
     "name": "stdout",
     "output_type": "stream",
     "text": [
      "0    1107\n",
      "1     369\n",
      "Name: y, dtype: int64\n",
      "1476\n"
     ]
    }
   ],
   "source": [
    "# Making the X_train set balanced w.r.t y\n",
    "\n",
    "# First join X_train and y_train again\n",
    "Xwithy = X_train.copy()\n",
    "Xwithy['y']=y_train\n",
    "\n",
    "# Then randomly select as 3 times as many features with y=0 as there are where y=1\n",
    "countoffrauds = Xwithy.loc[Xwithy['y']==1, 'y'].sum()\n",
    "notfrauds = Xwithy.loc[Xwithy['y']==0, :].sample(countoffrauds*3, replace=False)\n",
    "\n",
    "# Get a dataset of only y=1\n",
    "fraud = Xwithy.loc[Xwithy['y']==1,:]\n",
    "\n",
    "# Join the two datasets\n",
    "balanced = pd.concat([notfrauds, fraud])\n",
    "\n",
    "#Split out X and y again\n",
    "y_balanced = balanced['y']\n",
    "X_balanced = balanced.drop('y', axis=1)\n",
    "\n",
    "print(y_balanced.value_counts())\n",
    "print(len(X_balanced))"
   ]
  },
  {
   "cell_type": "markdown",
   "metadata": {},
   "source": [
    "## Logistic regression with Ridge"
   ]
  },
  {
   "cell_type": "markdown",
   "metadata": {},
   "source": [
    "\n",
    "### Standard logistic model\n",
    "\n",
    "Logistic regression is a good baseline model. The heatmap shows that multicollinearity is low among features and the scatter plots show some (log) linearity."
   ]
  },
  {
   "cell_type": "code",
   "execution_count": 76,
   "metadata": {},
   "outputs": [
    {
     "name": "stdout",
     "output_type": "stream",
     "text": [
      "Class      0   1\n",
      "row_0           \n",
      "0      71067  43\n",
      "1         12  80\n",
      "Accuracy is:  0.999227549788\n",
      "Sensitivity is:  0.650406504065\n"
     ]
    }
   ],
   "source": [
    "from sklearn import linear_model\n",
    "\n",
    "# Running logit with Ridge penalty\n",
    "logit = linear_model.LogisticRegression()\n",
    "logit.fit(X_train, y_train)\n",
    "\n",
    "# Getting predicted y from test\n",
    "y_hat = logit.predict_proba(X_test)[:,1]\n",
    "\n",
    "# Assume threshold of .5\n",
    "threshold = np.where(y_hat>0.5,1,0)\n",
    "cross = pd.crosstab(threshold, y_test)\n",
    "print(cross)\n",
    "acc = (cross[0][0]+cross[1][1])/len(y_hat)\n",
    "sensitive = cross[1][1]/(cross[1][0]+cross[1][1])\n",
    "print('Accuracy is: ', acc)\n",
    "print('Sensitivity is: ', sensitive)"
   ]
  },
  {
   "cell_type": "markdown",
   "metadata": {},
   "source": [
    "For credit card fraud monitoring I assume that the most important consideration is maximizing correctly predicted fraud (y = 1 and predicted y =1), while minimizing the number of fraudulent transactions which are classified as non-fraudulent (y=1 and predicted y = 0) as this carries high risk. While misclassifying normal transaction as fraudulent also carries some penalty (e.g. resources to investigate possible fraud and possible customer unhappiness if a card is wrongly blocked) it is arguably carries less financial (and reputational) risk than missing fraudulent transactions.\n",
    "\n",
    "Hence, the model should optimize on sensitivity (TP/(FN+TP))."
   ]
  },
  {
   "cell_type": "code",
   "execution_count": 174,
   "metadata": {
    "scrolled": true
   },
   "outputs": [
    {
     "data": {
      "text/plain": [
       "0    71079\n",
       "1      123\n",
       "Name: Class, dtype: int64"
      ]
     },
     "execution_count": 174,
     "metadata": {},
     "output_type": "execute_result"
    }
   ],
   "source": [
    "y_test.value_counts()"
   ]
  },
  {
   "cell_type": "code",
   "execution_count": 61,
   "metadata": {},
   "outputs": [
    {
     "data": {
      "image/png": "[encoded data removed]",
      "text/plain": [
       "<matplotlib.figure.Figure at 0x208a4e1b0b8>"
      ]
     },
     "metadata": {},
     "output_type": "display_data"
    }
   ],
   "source": [
    "# Optimising threshold - focus is on predicting fraud\n",
    "\n",
    "from sklearn import metrics\n",
    "\n",
    "preds = logit.predict_proba(X_test)[:,1]\n",
    "fpr, tpr, threshold = metrics.roc_curve(y_test, preds)\n",
    "roc_auc = metrics.auc(fpr, tpr)\n",
    "\n",
    "plt.title('Receiver Operating Characteristic')\n",
    "plt.plot(fpr, tpr, 'b', label='AUC = %0.2f'% roc_auc)\n",
    "plt.legend(loc='lower right')\n",
    "plt.plot([0,1],[0,1],'r--')\n",
    "plt.xlim([-0.1,1.2])\n",
    "plt.ylim([-0.1,1.2])\n",
    "plt.ylabel('True Positive Rate')\n",
    "plt.xlabel('False Positive Rate')\n",
    "plt.show()"
   ]
  },
  {
   "cell_type": "code",
   "execution_count": 77,
   "metadata": {},
   "outputs": [
    {
     "name": "stdout",
     "output_type": "stream",
     "text": [
      "Class      0   1\n",
      "row_0           \n",
      "0      71050  26\n",
      "1         29  97\n",
      "Test set accuracy: 0.9992275497879273\n",
      "Percent Type I errors: 0.00036515828207072835\n",
      "Percent Type II errors: 0.0004072919300019662\n",
      "Test set sensitivity: 0.7886178861788617\n"
     ]
    }
   ],
   "source": [
    "# Assume threshold of .2\n",
    "threshold = np.where(y_hat>0.2,1,0)\n",
    "cross = pd.crosstab(threshold, y_test)\n",
    "print(cross)\n",
    "\n",
    "# Change to df to make life easy\n",
    "table_pd = pd.DataFrame(cross)\n",
    "\n",
    "acc = (cross[0][0]+cross[1][1])/len(y_hat)\n",
    "\n",
    "test_tI_errors = table_pd.iloc[0,1]/(table_pd.iloc[0,0]+table_pd.iloc[1,1]+\n",
    "                                               table_pd.iloc[1,0]+table_pd.iloc[0,1])\n",
    "test_tII_errors = table_pd.iloc[1,0]/(table_pd.iloc[0,0]+table_pd.iloc[1,1]+\n",
    "                                               table_pd.iloc[1,0]+table_pd.iloc[0,1])\n",
    "sensitive = table_pd.iloc[1,1]/(table_pd.iloc[1,1]+table_pd.iloc[0,1])\n",
    "print((\n",
    "    'Test set accuracy: {}\\n'\n",
    "    'Percent Type I errors: {}\\n'\n",
    "    'Percent Type II errors: {}\\n'\n",
    "    'Test set sensitivity: {}').format(acc, test_tI_errors, test_tII_errors, sensitive))"
   ]
  },
  {
   "cell_type": "markdown",
   "metadata": {},
   "source": [
    "So by setting a low threshold the sensitivity of the model (TP/(FN + TP)) is improved (from 0.63).  However this comes at a cost of nearly tripling the amount of false positives - which can lead to extra work for the fraud detection unit (more cases to assess) and may lead to client unhappiness (e.g. if a credit card is blocked when no fraud is present).\n",
    "\n",
    "The low threshold is interesting. Given the large inbalance in the dataset (towards Class 0) we are basically interpreting *any* positive probability of fraud (for a particular Xi) as a fraud case."
   ]
  },
  {
   "cell_type": "code",
   "execution_count": 78,
   "metadata": {},
   "outputs": [
    {
     "name": "stdout",
     "output_type": "stream",
     "text": [
      "[ 0.87096774  0.53225806  0.51612903  0.4516129   0.60655738  0.6557377\n",
      "  0.54098361  0.47540984]\n",
      "Class      0   1\n",
      "row_0           \n",
      "0      55463   1\n",
      "1       1400  98\n",
      "Accuracy for fold 1 is 0.9754046557354026\n",
      "Sensitivity for fold 1 is 0.98989898989899\n",
      "Class      0   1\n",
      "row_0           \n",
      "0      55420   2\n",
      "1       1443  97\n",
      "Accuracy for fold 2 is 0.9746322109476493\n",
      "Sensitivity for fold 2 is 0.9797979797979798\n",
      "Class      0   1\n",
      "row_0           \n",
      "0      55427   4\n",
      "1       1436  94\n",
      "Accuracy for fold 3 is 0.9747195449518091\n",
      "Sensitivity for fold 3 is 0.9591836734693877\n",
      "Class      0   1\n",
      "row_0           \n",
      "0      55490   4\n",
      "1       1373  94\n",
      "Accuracy for fold 4 is 0.9758255648601675\n",
      "Sensitivity for fold 4 is 0.9591836734693877\n",
      "Class      0   1\n",
      "row_0           \n",
      "0      55379   5\n",
      "1       1484  93\n",
      "Accuracy for fold 5 is 0.9738593072453082\n",
      "Sensitivity for fold 5 is 0.9489795918367347\n"
     ]
    }
   ],
   "source": [
    "# Cross validating to make sure the model is not overfitting\n",
    "score = 'recall'\n",
    "logit = linear_model.LogisticRegression()\n",
    "sensitivity_cv = model_selection.cross_val_score(logit, X, y, cv = 8, scoring=score)\n",
    "print(sensitivity_cv)\n",
    "\n",
    "# Try StratiefiedKFold\n",
    "count = 0\n",
    "skf = model_selection.StratifiedKFold(n_splits=5, shuffle=True)\n",
    "for train_index, test_index in skf.split(X, y):\n",
    "    Xs_train, Xs_test = X.iloc[train_index], X.iloc[test_index]\n",
    "    ys_train, ys_test = y.iloc[train_index], y.iloc[test_index]\n",
    "    logit = linear_model.LogisticRegression()\n",
    "    logit.fit(Xs_train, ys_train)\n",
    "    y_hat = log.predict_proba(Xs_test)[:,1]\n",
    "    # Threshold of 0.3\n",
    "    threshold = np.where(y_hat>0.3,1,0)\n",
    "    cross = pd.crosstab(threshold, ys_test)\n",
    "    print(cross)\n",
    "    acc = (cross[0][0]+cross[1][1])/len(y_hat)\n",
    "    sensitive = cross[1][1]/(cross[1][0]+cross[1][1])\n",
    "    count += 1\n",
    "    print('Accuracy for fold {} is {}'.format(count, acc))\n",
    "    print('Sensitivity for fold {} is {}'.format(count, sensitive))\n"
   ]
  },
  {
   "cell_type": "markdown",
   "metadata": {},
   "source": [
    "While this model gives a good baseline, the CV shows that it is overfitting and therefore is not a particularly useful model. However, with a stratified split (keeping ratio of y constant at around 98 in each test sample) the model is highly accurate, but this comes at the cost of substantially (50 times more) increase in false positives. It also shows that some of the poor results in the initial CV may be due to low fraud observations (y=1) in some of the folds. This is worth keeping in mind for the rest of the notebook."
   ]
  },
  {
   "cell_type": "markdown",
   "metadata": {},
   "source": [
    "\n",
    "### Logit with balanced dataset"
   ]
  },
  {
   "cell_type": "code",
   "execution_count": 79,
   "metadata": {},
   "outputs": [
    {
     "name": "stdout",
     "output_type": "stream",
     "text": [
      "Class      0    1\n",
      "row_0            \n",
      "0      70239   10\n",
      "1        840  113\n",
      "Accuracy is:  0.988062133086\n",
      "Sensitivity is:  0.918699186992\n",
      "Threshold of 0.2\n",
      "Class      0    1\n",
      "row_0            \n",
      "0      68560    8\n",
      "1       2519  115\n",
      "Accuracy is:  0.964509423893\n",
      "Sensitivity is:  0.934959349593\n"
     ]
    }
   ],
   "source": [
    "# Running logit with Ridge penalty\n",
    "logit = linear_model.LogisticRegression()\n",
    "logit.fit(X_balanced, y_balanced)\n",
    "\n",
    "# Getting predicted y from test\n",
    "y_hat = logit.predict_proba(X_test)[:,1]\n",
    "\n",
    "# Assume threshold of .5\n",
    "threshold = np.where(y_hat>0.5,1,0)\n",
    "cross = pd.crosstab(threshold, y_test)\n",
    "print(cross)\n",
    "acc = (cross[0][0]+cross[1][1])/len(y_hat)\n",
    "sensitive = cross[1][1]/(cross[1][0]+cross[1][1])\n",
    "print('Accuracy is: ', acc)\n",
    "print('Sensitivity is: ', sensitive)\n",
    "\n",
    "# Assume threshold of .2\n",
    "print(\"Threshold of 0.2\")\n",
    "threshold = np.where(y_hat>0.2,1,0)\n",
    "cross = pd.crosstab(threshold, y_test)\n",
    "print(cross)\n",
    "acc = (cross[0][0]+cross[1][1])/len(y_hat)\n",
    "sensitive = cross[1][1]/(cross[1][0]+cross[1][1])\n",
    "print('Accuracy is: ', acc)\n",
    "print('Sensitivity is: ', sensitive)"
   ]
  },
  {
   "cell_type": "code",
   "execution_count": 80,
   "metadata": {},
   "outputs": [
    {
     "name": "stdout",
     "output_type": "stream",
     "text": [
      "Class      0    1\n",
      "row_0            \n",
      "0      70222   13\n",
      "1        857  110\n",
      "Accuracy for fold 1 is 0.987781242099941\n",
      "Sensitivity for fold 1 is 0.8943089430894309\n",
      "Class      0    1\n",
      "row_0            \n",
      "0      70268   10\n",
      "1        811  113\n",
      "Accuracy for fold 2 is 0.9884694250161512\n",
      "Sensitivity for fold 2 is 0.9186991869918699\n",
      "Class      0    1\n",
      "row_0            \n",
      "0      70303   15\n",
      "1        776  108\n",
      "Accuracy for fold 3 is 0.9888907614954636\n",
      "Sensitivity for fold 3 is 0.8780487804878049\n",
      "Class      0    1\n",
      "row_0            \n",
      "0      70234   11\n",
      "1        845  112\n",
      "Accuracy for fold 4 is 0.9879778657902868\n",
      "Sensitivity for fold 4 is 0.9105691056910569\n",
      "Class      0    1\n",
      "row_0            \n",
      "0      70258   14\n",
      "1        821  109\n",
      "Accuracy for fold 5 is 0.9882728013258054\n",
      "Sensitivity for fold 5 is 0.8861788617886179\n"
     ]
    }
   ],
   "source": [
    "# Own style CV to take account of balanced model\n",
    "# Apply model to a couple of representative samples (stratify sampling)\n",
    "# Note the model would've seen some, but not all of the y observations\n",
    "# Key is to test stability\n",
    "\n",
    "# 5 folds\n",
    "\n",
    "for i in range(1,6): \n",
    "    Xb_train, Xb_test, yb_train, yb_test = model_selection.train_test_split(X, y, stratify=y)\n",
    "    y_hat = logit.predict_proba(Xb_test)[:,1]\n",
    "    # Threshold of 0.5\n",
    "    threshold = np.where(y_hat>0.5,1,0)\n",
    "    cross = pd.crosstab(threshold, yb_test)\n",
    "    print(cross)\n",
    "    acc = (cross[0][0]+cross[1][1])/len(y_hat)\n",
    "    sensitive = cross[1][1]/(cross[1][0]+cross[1][1])\n",
    "    print('Accuracy for fold {} is {}'.format(i, acc))\n",
    "    print('Sensitivity for fold {} is {}'.format(i, sensitive))"
   ]
  },
  {
   "cell_type": "markdown",
   "metadata": {},
   "source": [
    "This model performs relatively well with a 0.5 threshold (greater precision can be achieved but results in substantially higher false positives). Note however, that the cross-validation technique will include some of the trained samples too, and is therefore not a perfect measure of out of sample performance. "
   ]
  },
  {
   "cell_type": "markdown",
   "metadata": {},
   "source": [
    "\n",
    "### Logit with smaller feature space\n"
   ]
  },
  {
   "cell_type": "code",
   "execution_count": 67,
   "metadata": {},
   "outputs": [
    {
     "name": "stdout",
     "output_type": "stream",
     "text": [
      "Class      0   1\n",
      "row_0           \n",
      "0      71066  65\n",
      "1         13  58\n",
      "Accuracy is:  0.998904525154\n",
      "Sensitivity is:  0.471544715447\n"
     ]
    }
   ],
   "source": [
    "\n",
    "# Running logit with Ridge penalty\n",
    "logit = linear_model.LogisticRegression()\n",
    "logit.fit(X_train.loc[:, ['V1', 'V2', 'V3', 'V4', 'V5', 'V6', \n",
    "                          'V7', 'V8', 'V9', 'V10', 'Amount']], y_train)\n",
    "\n",
    "# Getting predicted y from test\n",
    "y_hat = logit.predict_proba(X_test.loc[:, ['V1', 'V2', 'V3', 'V4', 'V5', 'V6', \n",
    "                          'V7', 'V8', 'V9', 'V10', 'Amount']])[:,1]\n",
    "\n",
    "# Assume threshold of .5\n",
    "threshold = np.where(y_hat>0.5,1,0)\n",
    "cross = pd.crosstab(threshold, y_test)\n",
    "print(cross)\n",
    "acc = (cross[0][0]+cross[1][1])/len(y_hat)\n",
    "sensitive = cross[1][1]/(cross[1][0]+cross[1][1])\n",
    "print('Accuracy is: ', acc)\n",
    "print('Sensitivity is: ', sensitive)"
   ]
  },
  {
   "cell_type": "markdown",
   "metadata": {},
   "source": [
    "\n",
    "\n",
    "### Summary for Logit model\n",
    "\n",
    "This section used 3 variations of logit model:\n",
    "1. Standard logit (Ridge penalty): Precision of 0.72, but signs of overfitting\n",
    "2. Logit with oversampling of y: Precision improved, to around 0.9, but at a cost of a higher FP rate. Relatively stable in cross-validation.\n",
    "3. Logit with smaller featurespace: Much worse precision"
   ]
  },
  {
   "cell_type": "markdown",
   "metadata": {},
   "source": [
    "\n",
    "\n",
    "## Random forests"
   ]
  },
  {
   "cell_type": "markdown",
   "metadata": {},
   "source": [
    "### Standard rf"
   ]
  },
  {
   "cell_type": "code",
   "execution_count": 179,
   "metadata": {},
   "outputs": [
    {
     "name": "stdout",
     "output_type": "stream",
     "text": [
      "Class      0   1\n",
      "row_0           \n",
      "0      71073  26\n",
      "1          6  97\n",
      "Accuracy is:  0.999550574422\n",
      "Sensitivity is:  0.788617886179\n"
     ]
    },
    {
     "data": {
      "image/png": "[encoded data removed]",
      "text/plain": [
       "<matplotlib.figure.Figure at 0x2a28350e320>"
      ]
     },
     "metadata": {},
     "output_type": "display_data"
    }
   ],
   "source": [
    "from sklearn import ensemble\n",
    "\n",
    "# Initialising and fitting the model\n",
    "rf = ensemble.RandomForestClassifier()\n",
    "rf.fit(X_train, y_train)\n",
    "\n",
    "# Testing prediction\n",
    "y_hat = rf.predict_proba(X_test)[:,1]\n",
    "\n",
    "# Assume threshold of .5\n",
    "threshold = np.where(y_hat>0.5,1,0)\n",
    "cross = pd.crosstab(threshold, y_test)\n",
    "print(cross)\n",
    "acc = (cross[0][0]+cross[1][1])/len(y_hat)\n",
    "sensitive = cross[1][1]/(cross[1][0]+cross[1][1])\n",
    "print('Accuracy is: ', acc)\n",
    "print('Sensitivity is: ', sensitive)\n",
    "\n",
    "preds = rf.predict_proba(X_test)[:,1]\n",
    "fpr, tpr, threshold = metrics.roc_curve(y_test, preds)\n",
    "roc_auc = metrics.auc(fpr, tpr)\n",
    "\n",
    "plt.title('Receiver Operating Characteristic')\n",
    "plt.plot(fpr, tpr, 'b', label='AUC = %0.2f'% roc_auc)\n",
    "plt.legend(loc='lower right')\n",
    "plt.plot([0,1],[0,1],'r--')\n",
    "plt.xlim([-0.1,1.2])\n",
    "plt.ylim([-0.1,1.2])\n",
    "plt.ylabel('True Positive Rate')\n",
    "plt.xlabel('False Positive Rate')\n",
    "plt.show()"
   ]
  },
  {
   "cell_type": "code",
   "execution_count": 180,
   "metadata": {},
   "outputs": [
    {
     "name": "stdout",
     "output_type": "stream",
     "text": [
      "Class      0    1\n",
      "row_0            \n",
      "0      71063   20\n",
      "1         16  103\n",
      "Test set accuracy: 0.9994943962248252\n",
      "Percent Type I errors: 0.0002808909862082526\n",
      "Percent Type II errors: 0.00022471278896660205\n",
      "Test set sensitivity: 0.8373983739837398\n"
     ]
    }
   ],
   "source": [
    "# Assume threshold of .2\n",
    "threshold = np.where(y_hat>0.2,1,0)\n",
    "cross = pd.crosstab(threshold, y_test)\n",
    "print(cross)\n",
    "\n",
    "# Change to df to make life easy\n",
    "table_pd = pd.DataFrame(cross)\n",
    "\n",
    "acc = (cross[0][0]+cross[1][1])/len(y_hat)\n",
    "\n",
    "test_tI_errors = table_pd.iloc[0,1]/(table_pd.iloc[0,0]+table_pd.iloc[1,1]+\n",
    "                                               table_pd.iloc[1,0]+table_pd.iloc[0,1])\n",
    "test_tII_errors = table_pd.iloc[1,0]/(table_pd.iloc[0,0]+table_pd.iloc[1,1]+\n",
    "                                               table_pd.iloc[1,0]+table_pd.iloc[0,1])\n",
    "sensitive = table_pd.iloc[1,1]/(table_pd.iloc[1,1]+table_pd.iloc[0,1])\n",
    "print((\n",
    "    'Test set accuracy: {}\\n'\n",
    "    'Percent Type I errors: {}\\n'\n",
    "    'Percent Type II errors: {}\\n'\n",
    "    'Test set sensitivity: {}').format(acc, test_tI_errors, test_tII_errors, sensitive))"
   ]
  },
  {
   "cell_type": "markdown",
   "metadata": {},
   "source": [
    "This is a good improvement in precision from the logit model, with the lower Type II errors.\n",
    "\n",
    "However, random forests can suffer from high variance (if they are not pruned) which makes their results fragile to the specific training data used."
   ]
  },
  {
   "cell_type": "code",
   "execution_count": 181,
   "metadata": {},
   "outputs": [
    {
     "name": "stdout",
     "output_type": "stream",
     "text": [
      "[ 0.97979798  0.74747475  0.65306122  0.79591837  0.64285714]\n"
     ]
    }
   ],
   "source": [
    "# Cross validating to make sure the model is not overfitting\n",
    "score = 'recall'\n",
    "rfc = ensemble.RandomForestClassifier()\n",
    "recall_cv = model_selection.cross_val_score(rfc, X, y, cv = 5, scoring=score)\n",
    "print(recall_cv)"
   ]
  },
  {
   "cell_type": "code",
   "execution_count": 83,
   "metadata": {},
   "outputs": [
    {
     "name": "stdout",
     "output_type": "stream",
     "text": [
      "Class      0   1\n",
      "row_0           \n",
      "0      55429   2\n",
      "1       1434  97\n",
      "Accuracy for fold 1 is 0.9747902110178716\n",
      "Sensitivity for fold 1 is 0.9797979797979798\n",
      "Class      0   1\n",
      "row_0           \n",
      "0      55507   4\n",
      "1       1356  95\n",
      "Accuracy for fold 2 is 0.9761244338330817\n",
      "Sensitivity for fold 2 is 0.9595959595959596\n",
      "Class      0   1\n",
      "row_0           \n",
      "0      55366   4\n",
      "1       1497  94\n",
      "Accuracy for fold 3 is 0.9736486367865733\n",
      "Sensitivity for fold 3 is 0.9591836734693877\n",
      "Class      0   1\n",
      "row_0           \n",
      "0      55409   2\n",
      "1       1454  96\n",
      "Accuracy for fold 4 is 0.9744386510068292\n",
      "Sensitivity for fold 4 is 0.9795918367346939\n",
      "Class      0   1\n",
      "row_0           \n",
      "0      55468   4\n",
      "1       1395  94\n",
      "Accuracy for fold 5 is 0.9754393356858201\n",
      "Sensitivity for fold 5 is 0.9591836734693877\n"
     ]
    }
   ],
   "source": [
    "# Try StratiefiedKFold\n",
    "count = 0\n",
    "skf = model_selection.StratifiedKFold(n_splits=5, shuffle=True)\n",
    "for train_index, test_index in skf.split(X, y):\n",
    "    Xs_train, Xs_test = X.iloc[train_index], X.iloc[test_index]\n",
    "    ys_train, ys_test = y.iloc[train_index], y.iloc[test_index]\n",
    "    rfc = ensemble.RandomForestClassifier()\n",
    "    rfc.fit(Xs_train, ys_train)\n",
    "    y_hat = rf.predict_proba(Xs_test)[:,1]\n",
    "    # Threshold of 0.3\n",
    "    threshold = np.where(y_hat>0.3,1,0)\n",
    "    cross = pd.crosstab(threshold, ys_test)\n",
    "    print(cross)\n",
    "    acc = (cross[0][0]+cross[1][1])/len(y_hat)\n",
    "    sensitive = cross[1][1]/(cross[1][0]+cross[1][1])\n",
    "    count += 1\n",
    "    print('Accuracy for fold {} is {}'.format(count, acc))\n",
    "    print('Sensitivity for fold {} is {}'.format(count, sensitive))"
   ]
  },
  {
   "cell_type": "markdown",
   "metadata": {},
   "source": [
    "So unfortunately the model is still overfitting according to a standard CV. However, if the model is adjusted to ensure a consistent sample of y, then it performs well.\n"
   ]
  },
  {
   "cell_type": "markdown",
   "metadata": {},
   "source": [
    "### RF with class weights"
   ]
  },
  {
   "cell_type": "markdown",
   "metadata": {},
   "source": [
    "One way to address the imbalance of the data is by using weighted random forest (as suggested [here](https://statistics.berkeley.edu/sites/default/files/tech-reports/666.pdf)).\n",
    "\n",
    "\"Since the RF classifier tends to be biased towards the majority class, we\n",
    "shall place a heavier penalty on misclassifying the minority class. We assign a weight to each class, with the\n",
    "minority class given larger weight (i.e., higher misclassification cost). The class weights are incorporated\n",
    "into the RF algorithm in two places. In the tree induction procedure, class weights are used to weight\n",
    "the Gini criterion for finding splits. In the terminal nodes of each tree, class weights are again taken into\n",
    "consideration. The class prediction of each terminal node is determined by “weighted majority vote”; i.e.,\n",
    "the weighted vote of a class is the weight for that class times the number of cases for that class at the\n",
    "terminal node. The final class prediction for RF is then determined by aggregatting the weighted vote from\n",
    "each individual tree, where the weights are average weights in the terminal nodes. Class weights are an\n",
    "essential tuning parameter to achieve desired performance. The out-of-bag estimate of the accuracy from\n",
    "RF can be used to select weights.\""
   ]
  },
  {
   "cell_type": "code",
   "execution_count": 89,
   "metadata": {},
   "outputs": [
    {
     "name": "stdout",
     "output_type": "stream",
     "text": [
      "Class      0    1\n",
      "row_0            \n",
      "0      71062   18\n",
      "1         17  105\n",
      "Test set accuracy: 0.9995084407741356\n",
      "Percent Type I errors: 0.0002528018875874273\n",
      "Percent Type II errors: 0.0002387573382770147\n",
      "Test set sensitivity: 0.8536585365853658\n",
      "[ 0.82828283  0.6969697   0.64285714  0.67346939  0.29591837]\n",
      "Class      0   1\n",
      "row_0           \n",
      "0      55374   2\n",
      "1       1489  97\n",
      "Accuracy for fold 1 is 0.97382465503318\n",
      "Sensitivity for fold 1 is 0.9797979797979798\n",
      "Class      0   1\n",
      "row_0           \n",
      "0      55427   2\n",
      "1       1436  97\n",
      "Accuracy for fold 2 is 0.9747550998911555\n",
      "Sensitivity for fold 2 is 0.9797979797979798\n",
      "Class      0   1\n",
      "row_0           \n",
      "0      55476   4\n",
      "1       1387  94\n",
      "Accuracy for fold 3 is 0.97557978265831\n",
      "Sensitivity for fold 3 is 0.9591836734693877\n",
      "Class      0   1\n",
      "row_0           \n",
      "0      55381   5\n",
      "1       1482  93\n",
      "Accuracy for fold 4 is 0.9738944189884307\n",
      "Sensitivity for fold 4 is 0.9489795918367347\n",
      "Class      0   1\n",
      "row_0           \n",
      "0      55521   3\n",
      "1       1342  95\n",
      "Accuracy for fold 5 is 0.9763873527501273\n",
      "Sensitivity for fold 5 is 0.9693877551020408\n"
     ]
    }
   ],
   "source": [
    "rfc = ensemble.RandomForestClassifier(class_weight='balanced')\n",
    "rfc.fit(X_train, y_train)\n",
    "y_hat = rfc.predict_proba(X_test)[:,1]\n",
    "\n",
    "# Assume threshold of .2\n",
    "threshold = np.where(y_hat>0.2,1,0)\n",
    "cross = pd.crosstab(threshold, y_test)\n",
    "print(cross)\n",
    "\n",
    "# Change to df to make life easy\n",
    "table_pd = pd.DataFrame(cross)\n",
    "\n",
    "acc = (cross[0][0]+cross[1][1])/len(y_hat)\n",
    "\n",
    "test_tI_errors = table_pd.iloc[0,1]/(table_pd.iloc[0,0]+table_pd.iloc[1,1]+\n",
    "                                               table_pd.iloc[1,0]+table_pd.iloc[0,1])\n",
    "test_tII_errors = table_pd.iloc[1,0]/(table_pd.iloc[0,0]+table_pd.iloc[1,1]+\n",
    "                                               table_pd.iloc[1,0]+table_pd.iloc[0,1])\n",
    "sensitive = table_pd.iloc[1,1]/(table_pd.iloc[1,1]+table_pd.iloc[0,1])\n",
    "print((\n",
    "    'Test set accuracy: {}\\n'\n",
    "    'Percent Type I errors: {}\\n'\n",
    "    'Percent Type II errors: {}\\n'\n",
    "    'Test set sensitivity: {}').format(acc, test_tI_errors, test_tII_errors, sensitive))\n",
    "\n",
    "precision_cv = model_selection.cross_val_score(rfc, X, y, cv = 5, scoring=score)\n",
    "print(precision_cv)\n",
    "\n",
    "# Try StratiefiedKFold\n",
    "count = 0\n",
    "skf = model_selection.StratifiedKFold(n_splits=5, shuffle=True)\n",
    "for train_index, test_index in skf.split(X, y):\n",
    "    Xs_train, Xs_test = X.iloc[train_index], X.iloc[test_index]\n",
    "    ys_train, ys_test = y.iloc[train_index], y.iloc[test_index]\n",
    "    rfc = ensemble.RandomForestClassifier(class_weight='balanced')\n",
    "    rfc.fit(Xs_train, ys_train)\n",
    "    y_hat = rf.predict_proba(Xs_test)[:,1]\n",
    "    # Threshold of 0.3\n",
    "    threshold = np.where(y_hat>0.3,1,0)\n",
    "    cross = pd.crosstab(threshold, ys_test)\n",
    "    print(cross)\n",
    "    acc = (cross[0][0]+cross[1][1])/len(y_hat)\n",
    "    sensitive = cross[1][1]/(cross[1][0]+cross[1][1])\n",
    "    count += 1\n",
    "    print('Accuracy for fold {} is {}'.format(count, acc))\n",
    "    print('Sensitivity for fold {} is {}'.format(count, sensitive))\n"
   ]
  },
  {
   "cell_type": "markdown",
   "metadata": {},
   "source": [
    "### RF with optimized hyperparameters"
   ]
  },
  {
   "cell_type": "code",
   "execution_count": 68,
   "metadata": {},
   "outputs": [
    {
     "name": "stdout",
     "output_type": "stream",
     "text": [
      "Class      0    1    All\n",
      "row_0                   \n",
      "0      71072   36  71108\n",
      "1          7   87     94\n",
      "All    71079  123  71202\n"
     ]
    },
    {
     "data": {
      "text/plain": [
       "RandomForestClassifier(bootstrap=True, class_weight=None, criterion='gini',\n",
       "            max_depth=None, max_features='auto', max_leaf_nodes=None,\n",
       "            min_impurity_split=1e-07, min_samples_leaf=1,\n",
       "            min_samples_split=2, min_weight_fraction_leaf=0.0,\n",
       "            n_estimators=50, n_jobs=1, oob_score=False, random_state=None,\n",
       "            verbose=0, warm_start=False)"
      ]
     },
     "execution_count": 68,
     "metadata": {},
     "output_type": "execute_result"
    }
   ],
   "source": [
    "# Trying to build a more robust random forest\n",
    "\n",
    "# Gridsearch to find optimal values of some of the hyperparameters in boosting model\n",
    "# Adjusting n_estimators to build more complex trees\n",
    "# Not adjusting max_features - auto works best\n",
    "# Adjusting min_sample_split to prevent overfitting (could also try max_depth or min_sample_leaf)\n",
    "\n",
    "params = { \"n_estimators\" : [5,10,50],\n",
    "         'min_samples_split': [2,10]}\n",
    "\n",
    "# Initialize the model\n",
    "rf = ensemble.RandomForestClassifier()\n",
    "\n",
    "# Apply GridSearch to the model\n",
    "grid = model_selection.GridSearchCV(rf, params)\n",
    "\n",
    "#Fit on train datase\n",
    "grid.fit(X_train, y_train)\n",
    "y_pred = grid.predict(X_test)\n",
    "y_pred_probs = grid.predict_proba(X_test)\n",
    "table_pd = pd.DataFrame(pd.crosstab(y_pred, y_test, margins=True))\n",
    "print(table_pd)\n",
    "\n",
    "grid.best_estimator_"
   ]
  },
  {
   "cell_type": "code",
   "execution_count": 69,
   "metadata": {},
   "outputs": [
    {
     "name": "stdout",
     "output_type": "stream",
     "text": [
      "[ 0.98989899  0.7979798   0.67346939  0.78571429  0.68367347]\n"
     ]
    }
   ],
   "source": [
    "# Cross validating to make sure the model is not overfitting\n",
    "score = 'recall'\n",
    "rfc = ensemble.RandomForestClassifier(bootstrap=True, class_weight=None, criterion='gini',\n",
    "            max_depth=None, max_features='auto', max_leaf_nodes=None,\n",
    "            min_impurity_split=1e-07, min_samples_leaf=1,\n",
    "            min_samples_split=2, min_weight_fraction_leaf=0.0,\n",
    "            n_estimators=50, n_jobs=1, oob_score=False, random_state=None,\n",
    "            verbose=0, warm_start=False)\n",
    "recall_cv = model_selection.cross_val_score(rfc, X, y, cv = 5, scoring=score)\n",
    "print(recall_cv)"
   ]
  },
  {
   "cell_type": "markdown",
   "metadata": {},
   "source": [
    "### RF with balanced sample"
   ]
  },
  {
   "cell_type": "code",
   "execution_count": 70,
   "metadata": {},
   "outputs": [
    {
     "name": "stdout",
     "output_type": "stream",
     "text": [
      "Class      0    1\n",
      "row_0            \n",
      "0      70587   18\n",
      "1        492  105\n",
      "Accuracy is:  0.992837279852\n",
      "Sensitivity is:  0.853658536585\n",
      "Threshold of 0.2\n",
      "Class      0    1\n",
      "row_0            \n",
      "0      67463   12\n",
      "1       3616  111\n",
      "Accuracy is:  0.949046375102\n",
      "Sensitivity is:  0.90243902439\n"
     ]
    }
   ],
   "source": [
    "\n",
    "# Initialising and fitting the model\n",
    "rf = ensemble.RandomForestClassifier()\n",
    "rf.fit(X_balanced, y_balanced)\n",
    "\n",
    "# Testing prediction\n",
    "y_hat = rf.predict_proba(X_test)[:,1]\n",
    "\n",
    "# Assume threshold of .5\n",
    "threshold = np.where(y_hat>0.5,1,0)\n",
    "cross = pd.crosstab(threshold, y_test)\n",
    "print(cross)\n",
    "acc = (cross[0][0]+cross[1][1])/len(y_hat)\n",
    "sensitive = cross[1][1]/(cross[1][0]+cross[1][1])\n",
    "print('Accuracy is: ', acc)\n",
    "print('Sensitivity is: ', sensitive)\n",
    "\n",
    "# Assume threshold of .2\n",
    "print(\"Threshold of 0.2\")\n",
    "threshold = np.where(y_hat>0.2,1,0)\n",
    "cross = pd.crosstab(threshold, y_test)\n",
    "print(cross)\n",
    "acc = (cross[0][0]+cross[1][1])/len(y_hat)\n",
    "sensitive = cross[1][1]/(cross[1][0]+cross[1][1])\n",
    "print('Accuracy is: ', acc)\n",
    "print('Sensitivity is: ', sensitive)"
   ]
  },
  {
   "cell_type": "code",
   "execution_count": 72,
   "metadata": {},
   "outputs": [
    {
     "name": "stdout",
     "output_type": "stream",
     "text": [
      "Class      0    1\n",
      "row_0            \n",
      "0      70587    7\n",
      "1        492  116\n",
      "Accuracy for fold 1 is 0.9929917698941041\n",
      "Sensitivity for fold 1 is 0.943089430894309\n",
      "Class      0    1\n",
      "row_0            \n",
      "0      70609    6\n",
      "1        470  117\n",
      "Accuracy for fold 2 is 0.9933147945282436\n",
      "Sensitivity for fold 2 is 0.9512195121951219\n",
      "Class      0    1\n",
      "row_0            \n",
      "0      70615    6\n",
      "1        464  117\n",
      "Accuracy for fold 3 is 0.9933990618241061\n",
      "Sensitivity for fold 3 is 0.9512195121951219\n",
      "Class      0    1\n",
      "row_0            \n",
      "0      70584   10\n",
      "1        495  113\n",
      "Accuracy for fold 4 is 0.9929075025982417\n",
      "Sensitivity for fold 4 is 0.9186991869918699\n",
      "Class      0    1\n",
      "row_0            \n",
      "0      70595    5\n",
      "1        484  118\n",
      "Accuracy for fold 5 is 0.9931322153872082\n",
      "Sensitivity for fold 5 is 0.959349593495935\n",
      "Class      0    1\n",
      "row_0            \n",
      "0      70600    6\n",
      "1        479  117\n",
      "Accuracy for fold 6 is 0.9931883935844499\n",
      "Sensitivity for fold 6 is 0.9512195121951219\n",
      "Class      0    1\n",
      "row_0            \n",
      "0      70624    7\n",
      "1        455  116\n",
      "Accuracy for fold 7 is 0.9935114182185893\n",
      "Sensitivity for fold 7 is 0.943089430894309\n",
      "Class      0    1\n",
      "row_0            \n",
      "0      70606    7\n",
      "1        473  116\n",
      "Accuracy for fold 8 is 0.993258616331002\n",
      "Sensitivity for fold 8 is 0.943089430894309\n",
      "Class      0    1\n",
      "row_0            \n",
      "0      70580    6\n",
      "1        499  117\n",
      "Accuracy for fold 9 is 0.9929075025982417\n",
      "Sensitivity for fold 9 is 0.9512195121951219\n"
     ]
    }
   ],
   "source": [
    "# Apply model to a couple of representative samples (stratify sampling)\n",
    "# Note the model would've seen some, but not all of the y observations\n",
    "# Key is to test stability\n",
    "\n",
    "# 5 folds\n",
    "\n",
    "for i in range(1,10): \n",
    "    Xb_train, Xb_test, yb_train, yb_test = model_selection.train_test_split(X, y, stratify=y)\n",
    "    y_hat = rf.predict_proba(Xb_test)[:,1]\n",
    "    # Threshold of 0.2\n",
    "    threshold = np.where(y_hat>0.5,1,0)\n",
    "    cross = pd.crosstab(threshold, yb_test)\n",
    "    print(cross)\n",
    "    acc = (cross[0][0]+cross[1][1])/len(y_hat)\n",
    "    sensitive = cross[1][1]/(cross[1][0]+cross[1][1])\n",
    "    print('Accuracy for fold {} is {}'.format(i, acc))\n",
    "    print('Sensitivity for fold {} is {}'.format(i, sensitive))"
   ]
  },
  {
   "cell_type": "markdown",
   "metadata": {},
   "source": [
    "### Summary for random forest classifier\n",
    "\n",
    "4 models were used\n",
    "1. Standard random forest classifier: 0.83 sensitivity, but still a lot of variability in CV (suggesting overfitting)\n",
    "2. Random forest with optimized hyperparameters: Not significant improvement given additional complexity\n",
    "3. Random forest with weighted class: Performs better than standard rf (sensitivity = 0.85) with no cost in FP\n",
    "4. Random forest with oversampling: High sensitivity 0.9, but high cost in false positives (30 times of standard rf)"
   ]
  },
  {
   "cell_type": "markdown",
   "metadata": {},
   "source": [
    "## Gradient boosting"
   ]
  },
  {
   "cell_type": "code",
   "execution_count": 31,
   "metadata": {},
   "outputs": [
    {
     "name": "stdout",
     "output_type": "stream",
     "text": [
      "Class      0   1\n",
      "row_0           \n",
      "0      71069  37\n",
      "1         10  86\n",
      "Accuracy is:  0.999339906182\n",
      "Sensitivity is:  0.69918699187\n"
     ]
    }
   ],
   "source": [
    "from sklearn import ensemble\n",
    "\n",
    "# Gradient boost with default hyperparameters\n",
    "gbc = ensemble.GradientBoostingClassifier(n_estimators=200)\n",
    "gbc.fit(X_train, y_train)\n",
    "\n",
    "# Testing prediction\n",
    "y_hat = gbc.predict_proba(X_test)[:,1]\n",
    "\n",
    "# Assume threshold of .5\n",
    "threshold = np.where(y_hat>0.5,1,0)\n",
    "cross = pd.crosstab(threshold, y_test)\n",
    "print(cross)\n",
    "acc = (cross[0][0]+cross[1][1])/len(y_hat)\n",
    "sensitive = cross[1][1]/(cross[1][0]+cross[1][1])\n",
    "print('Accuracy is: ', acc)\n",
    "print('Sensitivity is: ', sensitive)\n",
    "\n"
   ]
  },
  {
   "cell_type": "code",
   "execution_count": 18,
   "metadata": {},
   "outputs": [
    {
     "name": "stdout",
     "output_type": "stream",
     "text": [
      "Class      0   1\n",
      "row_0           \n",
      "0      71043  39\n",
      "1         36  84\n",
      "Accuracy is:  0.998946658802\n",
      "Sensitivity is:  0.682926829268\n"
     ]
    }
   ],
   "source": [
    "# Assume threshold of .1\n",
    "threshold = np.where(y_hat>0.1,1,0)\n",
    "cross = pd.crosstab(threshold, y_test)\n",
    "print(cross)\n",
    "acc = (cross[0][0]+cross[1][1])/len(y_hat)\n",
    "sensitive = cross[1][1]/(cross[1][0]+cross[1][1])\n",
    "print('Accuracy is: ', acc)\n",
    "print('Sensitivity is: ', sensitive)"
   ]
  },
  {
   "cell_type": "markdown",
   "metadata": {},
   "source": [
    "### Gridsearch to optimize hyperparameters"
   ]
  },
  {
   "cell_type": "code",
   "execution_count": 90,
   "metadata": {},
   "outputs": [
    {
     "name": "stdout",
     "output_type": "stream",
     "text": [
      "col_0      0    1    All\n",
      "Class                   \n",
      "0      71056   23  71079\n",
      "1         20  103    123\n",
      "All    71076  126  71202\n"
     ]
    },
    {
     "data": {
      "text/plain": [
       "GradientBoostingClassifier(criterion='friedman_mse', init=None,\n",
       "              learning_rate=0.1, loss='deviance', max_depth=4,\n",
       "              max_features=None, max_leaf_nodes=None,\n",
       "              min_impurity_split=1e-07, min_samples_leaf=1,\n",
       "              min_samples_split=2, min_weight_fraction_leaf=0.0,\n",
       "              n_estimators=10, presort='auto', random_state=None,\n",
       "              subsample=1.0, verbose=0, warm_start=False)"
      ]
     },
     "execution_count": 90,
     "metadata": {},
     "output_type": "execute_result"
    }
   ],
   "source": [
    "# Gridsearch to find optimal values of some of the hyperparameters in boosting model\n",
    "params = {'n_estimators': [10, 100, 200],\n",
    "          'max_depth': [2, 4]}\n",
    "# Initialize the model\n",
    "gbc = ensemble.GradientBoostingClassifier()\n",
    "grid = model_selection.GridSearchCV(gbc, params)\n",
    "\n",
    "#Fit on train datase\n",
    "grid.fit(X_train, y_train)\n",
    "y_pred = grid.predict(X_test)\n",
    "table_pd = pd.DataFrame(pd.crosstab(y_test, y_pred, margins=True))\n",
    "print(table_pd)\n",
    "\n",
    "grid.best_estimator_"
   ]
  },
  {
   "cell_type": "markdown",
   "metadata": {
    "collapsed": true
   },
   "source": [
    "GradientBoostingClassifier(criterion='friedman_mse', init=None,\n",
    "              learning_rate=0.1, loss='deviance', max_depth=4,\n",
    "              max_features=None, max_leaf_nodes=None,\n",
    "              min_impurity_split=1e-07, min_samples_leaf=1,\n",
    "              min_samples_split=2, min_weight_fraction_leaf=0.0,\n",
    "              n_estimators=10, presort='auto', random_state=None,\n",
    "              subsample=1.0, verbose=0, warm_start=False)"
   ]
  },
  {
   "cell_type": "markdown",
   "metadata": {},
   "source": [
    "### Summary for Gradient boost\n",
    "\n",
    "Here two gradient boost models were calculated:\n",
    "1. Standard gradient boost: lower precision than logit and rf \n",
    "2. Optimized gradient boost through GridSearch: High cost in terms of calculation, and gains are comparable to logit and random forest models (but with lower false positives)"
   ]
  },
  {
   "cell_type": "markdown",
   "metadata": {},
   "source": [
    "## Conclusion\n",
    "\n",
    "The final model depends on the how the tradeoff between high precision and high false positives is resolved. The random forest outperformed the logistic regressions, and was substantially faster to implement than the gradient boost models. The random forest model based on oversampling fraud cases provides the highest precision (but also has a high false positive rate), while the random forest model with weighted classes provides the highest precision while keeping false positives relatively low."
   ]
  },
  {
   "cell_type": "code",
   "execution_count": null,
   "metadata": {
    "collapsed": true
   },
   "outputs": [],
   "source": []
  }
 ],
 "metadata": {
  "kernelspec": {
   "display_name": "Python 3",
   "language": "python",
   "name": "python3"
  },
  "language_info": {
   "codemirror_mode": {
    "name": "ipython",
    "version": 3
   },
   "file_extension": ".py",
   "mimetype": "text/x-python",
   "name": "python",
   "nbconvert_exporter": "python",
   "pygments_lexer": "ipython3",
   "version": "3.6.1"
  }
 },
 "nbformat": 4,
 "nbformat_minor": 2
}
