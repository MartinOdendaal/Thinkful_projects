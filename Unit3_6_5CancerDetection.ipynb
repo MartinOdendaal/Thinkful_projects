{
 "cells": [
  {
   "cell_type": "markdown",
   "metadata": {},
   "source": [
    "# Cancer detection\n",
    "\n",
    "Using set of [breast cancer](http://archive.ics.uci.edu/ml/datasets/Breast+Cancer+Wisconsin+%28Original%29) data, create a model to predict breast cancer. Also, what traits are most indicative of whether or not an individual will be diagnosed?"
   ]
  },
  {
   "cell_type": "code",
   "execution_count": 1,
   "metadata": {
    "collapsed": true
   },
   "outputs": [],
   "source": [
    "import numpy as np\n",
    "import pandas as pd\n",
    "import matplotlib.pylab as plt\n",
    "import seaborn as sns\n",
    "%matplotlib inline"
   ]
  },
  {
   "cell_type": "code",
   "execution_count": 2,
   "metadata": {
    "collapsed": true
   },
   "outputs": [],
   "source": [
    "cancer = pd.read_csv('breast-cancer.txt', sep=',',\n",
    "                     header=None, names=['ID', 'Thickness', 'Uni_cell_size',\n",
    "                                         'Uni_cell_shape', 'Adhesion', 'Epi_cell_size',\n",
    "                                         'Bare_nuclei', 'Chromatin', 'Norm_nucleoli',\n",
    "                                         'Mitoses', 'Class'])"
   ]
  },
  {
   "cell_type": "code",
   "execution_count": 161,
   "metadata": {},
   "outputs": [
    {
     "data": {
      "text/html": [
       "<div>\n",
       "<style>\n",
       "    .dataframe thead tr:only-child th {\n",
       "        text-align: right;\n",
       "    }\n",
       "\n",
       "    .dataframe thead th {\n",
       "        text-align: left;\n",
       "    }\n",
       "\n",
       "    .dataframe tbody tr th {\n",
       "        vertical-align: top;\n",
       "    }\n",
       "</style>\n",
       "<table border=\"1\" class=\"dataframe\">\n",
       "  <thead>\n",
       "    <tr style=\"text-align: right;\">\n",
       "      <th></th>\n",
       "      <th>ID</th>\n",
       "      <th>Thickness</th>\n",
       "      <th>Uni_cell_size</th>\n",
       "      <th>Uni_cell_shape</th>\n",
       "      <th>Adhesion</th>\n",
       "      <th>Epi_cell_size</th>\n",
       "      <th>Bare_nuclei</th>\n",
       "      <th>Chromatin</th>\n",
       "      <th>Norm_nucleoli</th>\n",
       "      <th>Mitoses</th>\n",
       "      <th>Class</th>\n",
       "    </tr>\n",
       "  </thead>\n",
       "  <tbody>\n",
       "    <tr>\n",
       "      <th>0</th>\n",
       "      <td>1000025</td>\n",
       "      <td>5</td>\n",
       "      <td>1</td>\n",
       "      <td>1</td>\n",
       "      <td>1</td>\n",
       "      <td>2</td>\n",
       "      <td>1</td>\n",
       "      <td>3</td>\n",
       "      <td>1</td>\n",
       "      <td>1</td>\n",
       "      <td>2</td>\n",
       "    </tr>\n",
       "    <tr>\n",
       "      <th>1</th>\n",
       "      <td>1002945</td>\n",
       "      <td>5</td>\n",
       "      <td>4</td>\n",
       "      <td>4</td>\n",
       "      <td>5</td>\n",
       "      <td>7</td>\n",
       "      <td>10</td>\n",
       "      <td>3</td>\n",
       "      <td>2</td>\n",
       "      <td>1</td>\n",
       "      <td>2</td>\n",
       "    </tr>\n",
       "    <tr>\n",
       "      <th>2</th>\n",
       "      <td>1015425</td>\n",
       "      <td>3</td>\n",
       "      <td>1</td>\n",
       "      <td>1</td>\n",
       "      <td>1</td>\n",
       "      <td>2</td>\n",
       "      <td>2</td>\n",
       "      <td>3</td>\n",
       "      <td>1</td>\n",
       "      <td>1</td>\n",
       "      <td>2</td>\n",
       "    </tr>\n",
       "    <tr>\n",
       "      <th>3</th>\n",
       "      <td>1016277</td>\n",
       "      <td>6</td>\n",
       "      <td>8</td>\n",
       "      <td>8</td>\n",
       "      <td>1</td>\n",
       "      <td>3</td>\n",
       "      <td>4</td>\n",
       "      <td>3</td>\n",
       "      <td>7</td>\n",
       "      <td>1</td>\n",
       "      <td>2</td>\n",
       "    </tr>\n",
       "    <tr>\n",
       "      <th>4</th>\n",
       "      <td>1017023</td>\n",
       "      <td>4</td>\n",
       "      <td>1</td>\n",
       "      <td>1</td>\n",
       "      <td>3</td>\n",
       "      <td>2</td>\n",
       "      <td>1</td>\n",
       "      <td>3</td>\n",
       "      <td>1</td>\n",
       "      <td>1</td>\n",
       "      <td>2</td>\n",
       "    </tr>\n",
       "  </tbody>\n",
       "</table>\n",
       "</div>"
      ],
      "text/plain": [
       "        ID  Thickness  Uni_cell_size  Uni_cell_shape  Adhesion  Epi_cell_size  \\\n",
       "0  1000025          5              1               1         1              2   \n",
       "1  1002945          5              4               4         5              7   \n",
       "2  1015425          3              1               1         1              2   \n",
       "3  1016277          6              8               8         1              3   \n",
       "4  1017023          4              1               1         3              2   \n",
       "\n",
       "  Bare_nuclei  Chromatin  Norm_nucleoli  Mitoses  Class  \n",
       "0           1          3              1        1      2  \n",
       "1          10          3              2        1      2  \n",
       "2           2          3              1        1      2  \n",
       "3           4          3              7        1      2  \n",
       "4           1          3              1        1      2  "
      ]
     },
     "execution_count": 161,
     "metadata": {},
     "output_type": "execute_result"
    }
   ],
   "source": [
    "cancer.head()"
   ]
  },
  {
   "cell_type": "markdown",
   "metadata": {},
   "source": [
    "Attribute Information:\n",
    "\n",
    "1. Sample code number: id number \n",
    "2. Clump Thickness: 1 - 10 \n",
    "3. Uniformity of Cell Size: 1 - 10 \n",
    "4. Uniformity of Cell Shape: 1 - 10 \n",
    "5. Marginal Adhesion: 1 - 10 \n",
    "6. Single Epithelial Cell Size: 1 - 10 \n",
    "7. Bare Nuclei: 1 - 10 \n",
    "8. Bland Chromatin: 1 - 10 \n",
    "9. Normal Nucleoli: 1 - 10 \n",
    "10. Mitoses: 1 - 10 \n",
    "11. Class: (2 for benign, 4 for malignant)"
   ]
  },
  {
   "cell_type": "markdown",
   "metadata": {},
   "source": [
    "## Setting up the data"
   ]
  },
  {
   "cell_type": "code",
   "execution_count": 162,
   "metadata": {},
   "outputs": [
    {
     "name": "stdout",
     "output_type": "stream",
     "text": [
      "<class 'pandas.core.frame.DataFrame'>\n",
      "RangeIndex: 699 entries, 0 to 698\n",
      "Data columns (total 11 columns):\n",
      "ID                699 non-null int64\n",
      "Thickness         699 non-null int64\n",
      "Uni_cell_size     699 non-null int64\n",
      "Uni_cell_shape    699 non-null int64\n",
      "Adhesion          699 non-null int64\n",
      "Epi_cell_size     699 non-null int64\n",
      "Bare_nuclei       699 non-null object\n",
      "Chromatin         699 non-null int64\n",
      "Norm_nucleoli     699 non-null int64\n",
      "Mitoses           699 non-null int64\n",
      "Class             699 non-null int64\n",
      "dtypes: int64(10), object(1)\n",
      "memory usage: 60.1+ KB\n"
     ]
    }
   ],
   "source": [
    "cancer.info()"
   ]
  },
  {
   "cell_type": "code",
   "execution_count": 163,
   "metadata": {},
   "outputs": [
    {
     "data": {
      "text/plain": [
       "0    458\n",
       "1    241\n",
       "Name: Class, dtype: int64"
      ]
     },
     "execution_count": 163,
     "metadata": {},
     "output_type": "execute_result"
    }
   ],
   "source": [
    "# Rework Class into 0 benign and 1 malignant\n",
    "cancer.loc[cancer.Class==2, 'Class'] = 0\n",
    "cancer.loc[cancer.Class==4, 'Class'] = 1\n",
    "\n",
    "cancer.Class.value_counts()"
   ]
  },
  {
   "cell_type": "code",
   "execution_count": 164,
   "metadata": {},
   "outputs": [
    {
     "data": {
      "text/plain": [
       "0    458\n",
       "1    241\n",
       "Name: Class, dtype: int64"
      ]
     },
     "execution_count": 164,
     "metadata": {},
     "output_type": "execute_result"
    }
   ],
   "source": [
    "cancer.Class.value_counts()"
   ]
  },
  {
   "cell_type": "code",
   "execution_count": 165,
   "metadata": {},
   "outputs": [
    {
     "data": {
      "text/plain": [
       "1     402\n",
       "10    132\n",
       "5      30\n",
       "2      30\n",
       "3      28\n",
       "8      21\n",
       "4      19\n",
       "?      16\n",
       "9       9\n",
       "7       8\n",
       "6       4\n",
       "Name: Bare_nuclei, dtype: int64"
      ]
     },
     "execution_count": 165,
     "metadata": {},
     "output_type": "execute_result"
    }
   ],
   "source": [
    "# Something in Bare_nuclei\n",
    "cancer.Bare_nuclei.value_counts()"
   ]
  },
  {
   "cell_type": "code",
   "execution_count": 166,
   "metadata": {},
   "outputs": [
    {
     "data": {
      "text/html": [
       "<div>\n",
       "<style>\n",
       "    .dataframe thead tr:only-child th {\n",
       "        text-align: right;\n",
       "    }\n",
       "\n",
       "    .dataframe thead th {\n",
       "        text-align: left;\n",
       "    }\n",
       "\n",
       "    .dataframe tbody tr th {\n",
       "        vertical-align: top;\n",
       "    }\n",
       "</style>\n",
       "<table border=\"1\" class=\"dataframe\">\n",
       "  <thead>\n",
       "    <tr style=\"text-align: right;\">\n",
       "      <th></th>\n",
       "      <th>ID</th>\n",
       "      <th>Thickness</th>\n",
       "      <th>Uni_cell_size</th>\n",
       "      <th>Uni_cell_shape</th>\n",
       "      <th>Adhesion</th>\n",
       "      <th>Epi_cell_size</th>\n",
       "      <th>Bare_nuclei</th>\n",
       "      <th>Chromatin</th>\n",
       "      <th>Norm_nucleoli</th>\n",
       "      <th>Mitoses</th>\n",
       "      <th>Class</th>\n",
       "    </tr>\n",
       "  </thead>\n",
       "  <tbody>\n",
       "    <tr>\n",
       "      <th>23</th>\n",
       "      <td>1057013</td>\n",
       "      <td>8</td>\n",
       "      <td>4</td>\n",
       "      <td>5</td>\n",
       "      <td>1</td>\n",
       "      <td>2</td>\n",
       "      <td>?</td>\n",
       "      <td>7</td>\n",
       "      <td>3</td>\n",
       "      <td>1</td>\n",
       "      <td>1</td>\n",
       "    </tr>\n",
       "    <tr>\n",
       "      <th>40</th>\n",
       "      <td>1096800</td>\n",
       "      <td>6</td>\n",
       "      <td>6</td>\n",
       "      <td>6</td>\n",
       "      <td>9</td>\n",
       "      <td>6</td>\n",
       "      <td>?</td>\n",
       "      <td>7</td>\n",
       "      <td>8</td>\n",
       "      <td>1</td>\n",
       "      <td>0</td>\n",
       "    </tr>\n",
       "    <tr>\n",
       "      <th>139</th>\n",
       "      <td>1183246</td>\n",
       "      <td>1</td>\n",
       "      <td>1</td>\n",
       "      <td>1</td>\n",
       "      <td>1</td>\n",
       "      <td>1</td>\n",
       "      <td>?</td>\n",
       "      <td>2</td>\n",
       "      <td>1</td>\n",
       "      <td>1</td>\n",
       "      <td>0</td>\n",
       "    </tr>\n",
       "    <tr>\n",
       "      <th>145</th>\n",
       "      <td>1184840</td>\n",
       "      <td>1</td>\n",
       "      <td>1</td>\n",
       "      <td>3</td>\n",
       "      <td>1</td>\n",
       "      <td>2</td>\n",
       "      <td>?</td>\n",
       "      <td>2</td>\n",
       "      <td>1</td>\n",
       "      <td>1</td>\n",
       "      <td>0</td>\n",
       "    </tr>\n",
       "    <tr>\n",
       "      <th>158</th>\n",
       "      <td>1193683</td>\n",
       "      <td>1</td>\n",
       "      <td>1</td>\n",
       "      <td>2</td>\n",
       "      <td>1</td>\n",
       "      <td>3</td>\n",
       "      <td>?</td>\n",
       "      <td>1</td>\n",
       "      <td>1</td>\n",
       "      <td>1</td>\n",
       "      <td>0</td>\n",
       "    </tr>\n",
       "    <tr>\n",
       "      <th>164</th>\n",
       "      <td>1197510</td>\n",
       "      <td>5</td>\n",
       "      <td>1</td>\n",
       "      <td>1</td>\n",
       "      <td>1</td>\n",
       "      <td>2</td>\n",
       "      <td>?</td>\n",
       "      <td>3</td>\n",
       "      <td>1</td>\n",
       "      <td>1</td>\n",
       "      <td>0</td>\n",
       "    </tr>\n",
       "    <tr>\n",
       "      <th>235</th>\n",
       "      <td>1241232</td>\n",
       "      <td>3</td>\n",
       "      <td>1</td>\n",
       "      <td>4</td>\n",
       "      <td>1</td>\n",
       "      <td>2</td>\n",
       "      <td>?</td>\n",
       "      <td>3</td>\n",
       "      <td>1</td>\n",
       "      <td>1</td>\n",
       "      <td>0</td>\n",
       "    </tr>\n",
       "    <tr>\n",
       "      <th>249</th>\n",
       "      <td>169356</td>\n",
       "      <td>3</td>\n",
       "      <td>1</td>\n",
       "      <td>1</td>\n",
       "      <td>1</td>\n",
       "      <td>2</td>\n",
       "      <td>?</td>\n",
       "      <td>3</td>\n",
       "      <td>1</td>\n",
       "      <td>1</td>\n",
       "      <td>0</td>\n",
       "    </tr>\n",
       "    <tr>\n",
       "      <th>275</th>\n",
       "      <td>432809</td>\n",
       "      <td>3</td>\n",
       "      <td>1</td>\n",
       "      <td>3</td>\n",
       "      <td>1</td>\n",
       "      <td>2</td>\n",
       "      <td>?</td>\n",
       "      <td>2</td>\n",
       "      <td>1</td>\n",
       "      <td>1</td>\n",
       "      <td>0</td>\n",
       "    </tr>\n",
       "    <tr>\n",
       "      <th>292</th>\n",
       "      <td>563649</td>\n",
       "      <td>8</td>\n",
       "      <td>8</td>\n",
       "      <td>8</td>\n",
       "      <td>1</td>\n",
       "      <td>2</td>\n",
       "      <td>?</td>\n",
       "      <td>6</td>\n",
       "      <td>10</td>\n",
       "      <td>1</td>\n",
       "      <td>1</td>\n",
       "    </tr>\n",
       "    <tr>\n",
       "      <th>294</th>\n",
       "      <td>606140</td>\n",
       "      <td>1</td>\n",
       "      <td>1</td>\n",
       "      <td>1</td>\n",
       "      <td>1</td>\n",
       "      <td>2</td>\n",
       "      <td>?</td>\n",
       "      <td>2</td>\n",
       "      <td>1</td>\n",
       "      <td>1</td>\n",
       "      <td>0</td>\n",
       "    </tr>\n",
       "    <tr>\n",
       "      <th>297</th>\n",
       "      <td>61634</td>\n",
       "      <td>5</td>\n",
       "      <td>4</td>\n",
       "      <td>3</td>\n",
       "      <td>1</td>\n",
       "      <td>2</td>\n",
       "      <td>?</td>\n",
       "      <td>2</td>\n",
       "      <td>3</td>\n",
       "      <td>1</td>\n",
       "      <td>0</td>\n",
       "    </tr>\n",
       "    <tr>\n",
       "      <th>315</th>\n",
       "      <td>704168</td>\n",
       "      <td>4</td>\n",
       "      <td>6</td>\n",
       "      <td>5</td>\n",
       "      <td>6</td>\n",
       "      <td>7</td>\n",
       "      <td>?</td>\n",
       "      <td>4</td>\n",
       "      <td>9</td>\n",
       "      <td>1</td>\n",
       "      <td>0</td>\n",
       "    </tr>\n",
       "    <tr>\n",
       "      <th>321</th>\n",
       "      <td>733639</td>\n",
       "      <td>3</td>\n",
       "      <td>1</td>\n",
       "      <td>1</td>\n",
       "      <td>1</td>\n",
       "      <td>2</td>\n",
       "      <td>?</td>\n",
       "      <td>3</td>\n",
       "      <td>1</td>\n",
       "      <td>1</td>\n",
       "      <td>0</td>\n",
       "    </tr>\n",
       "    <tr>\n",
       "      <th>411</th>\n",
       "      <td>1238464</td>\n",
       "      <td>1</td>\n",
       "      <td>1</td>\n",
       "      <td>1</td>\n",
       "      <td>1</td>\n",
       "      <td>1</td>\n",
       "      <td>?</td>\n",
       "      <td>2</td>\n",
       "      <td>1</td>\n",
       "      <td>1</td>\n",
       "      <td>0</td>\n",
       "    </tr>\n",
       "    <tr>\n",
       "      <th>617</th>\n",
       "      <td>1057067</td>\n",
       "      <td>1</td>\n",
       "      <td>1</td>\n",
       "      <td>1</td>\n",
       "      <td>1</td>\n",
       "      <td>1</td>\n",
       "      <td>?</td>\n",
       "      <td>1</td>\n",
       "      <td>1</td>\n",
       "      <td>1</td>\n",
       "      <td>0</td>\n",
       "    </tr>\n",
       "  </tbody>\n",
       "</table>\n",
       "</div>"
      ],
      "text/plain": [
       "          ID  Thickness  Uni_cell_size  Uni_cell_shape  Adhesion  \\\n",
       "23   1057013          8              4               5         1   \n",
       "40   1096800          6              6               6         9   \n",
       "139  1183246          1              1               1         1   \n",
       "145  1184840          1              1               3         1   \n",
       "158  1193683          1              1               2         1   \n",
       "164  1197510          5              1               1         1   \n",
       "235  1241232          3              1               4         1   \n",
       "249   169356          3              1               1         1   \n",
       "275   432809          3              1               3         1   \n",
       "292   563649          8              8               8         1   \n",
       "294   606140          1              1               1         1   \n",
       "297    61634          5              4               3         1   \n",
       "315   704168          4              6               5         6   \n",
       "321   733639          3              1               1         1   \n",
       "411  1238464          1              1               1         1   \n",
       "617  1057067          1              1               1         1   \n",
       "\n",
       "     Epi_cell_size Bare_nuclei  Chromatin  Norm_nucleoli  Mitoses  Class  \n",
       "23               2           ?          7              3        1      1  \n",
       "40               6           ?          7              8        1      0  \n",
       "139              1           ?          2              1        1      0  \n",
       "145              2           ?          2              1        1      0  \n",
       "158              3           ?          1              1        1      0  \n",
       "164              2           ?          3              1        1      0  \n",
       "235              2           ?          3              1        1      0  \n",
       "249              2           ?          3              1        1      0  \n",
       "275              2           ?          2              1        1      0  \n",
       "292              2           ?          6             10        1      1  \n",
       "294              2           ?          2              1        1      0  \n",
       "297              2           ?          2              3        1      0  \n",
       "315              7           ?          4              9        1      0  \n",
       "321              2           ?          3              1        1      0  \n",
       "411              1           ?          2              1        1      0  \n",
       "617              1           ?          1              1        1      0  "
      ]
     },
     "execution_count": 166,
     "metadata": {},
     "output_type": "execute_result"
    }
   ],
   "source": [
    "cancer.loc[cancer.Bare_nuclei=='?', :]"
   ]
  },
  {
   "cell_type": "code",
   "execution_count": 167,
   "metadata": {},
   "outputs": [
    {
     "name": "stdout",
     "output_type": "stream",
     "text": [
      "0.773060029283\n",
      "['10' '10' '1' '1' '1' '1' '1' '1' '1' '10' '1' '1' '10' '1' '1' '1']\n"
     ]
    }
   ],
   "source": [
    "from sklearn.neighbors import KNeighborsClassifier\n",
    "\n",
    "# Try using knn to find '?'\n",
    "\n",
    "#Set up X and y\n",
    "\n",
    "X_bare_train = cancer.loc[cancer.Bare_nuclei!='?',\n",
    "                          ['Thickness', 'Uni_cell_size', 'Uni_cell_shape', 'Adhesion',\n",
    "                           'Epi_cell_size', 'Chromatin', 'Norm_nucleoli', 'Mitoses', 'Class']]\n",
    "X_bare_test = cancer.loc[cancer.Bare_nuclei=='?', ['Thickness', 'Uni_cell_size', 'Uni_cell_shape', 'Adhesion',\n",
    "                        'Epi_cell_size', 'Chromatin', 'Norm_nucleoli', 'Mitoses', \n",
    "                        'Class']]\n",
    "y_bare_train = cancer.loc[cancer.Bare_nuclei!='?', 'Bare_nuclei']\n",
    "\n",
    "# Create instance, use Manhattan distance\n",
    "nn = KNeighborsClassifier(n_neighbors=5, p=1)\n",
    "nn.fit(X_bare_train, y_bare_train)\n",
    "accuracy = nn.score(X_bare_train, y_bare_train)\n",
    "print(accuracy)\n",
    "\n",
    "# Predict\n",
    "new_bare = nn.predict(X_bare_test)\n",
    "print(new_bare)\n",
    "\n"
   ]
  },
  {
   "cell_type": "code",
   "execution_count": 168,
   "metadata": {},
   "outputs": [
    {
     "data": {
      "text/plain": [
       "1     414\n",
       "10    136\n",
       "5      30\n",
       "2      30\n",
       "3      28\n",
       "8      21\n",
       "4      19\n",
       "9       9\n",
       "7       8\n",
       "6       4\n",
       "Name: Bare_nuclei, dtype: int64"
      ]
     },
     "execution_count": 168,
     "metadata": {},
     "output_type": "execute_result"
    }
   ],
   "source": [
    "# Changing '?' to predicted values\n",
    "cancer.loc[cancer.Bare_nuclei=='?', 'Bare_nuclei'] = new_bare\n",
    "\n",
    "cancer.Bare_nuclei.value_counts()"
   ]
  },
  {
   "cell_type": "code",
   "execution_count": 172,
   "metadata": {},
   "outputs": [
    {
     "name": "stdout",
     "output_type": "stream",
     "text": [
      "<class 'pandas.core.frame.DataFrame'>\n",
      "RangeIndex: 699 entries, 0 to 698\n",
      "Data columns (total 11 columns):\n",
      "ID                699 non-null int64\n",
      "Thickness         699 non-null int64\n",
      "Uni_cell_size     699 non-null int64\n",
      "Uni_cell_shape    699 non-null int64\n",
      "Adhesion          699 non-null int64\n",
      "Epi_cell_size     699 non-null int64\n",
      "Bare_nuclei       699 non-null int32\n",
      "Chromatin         699 non-null int64\n",
      "Norm_nucleoli     699 non-null int64\n",
      "Mitoses           699 non-null int64\n",
      "Class             699 non-null int64\n",
      "dtypes: int32(1), int64(10)\n",
      "memory usage: 57.4 KB\n"
     ]
    }
   ],
   "source": [
    "# Change Bare_nuclei type\n",
    "cancer.loc[:,'Bare_nuclei'] = cancer.Bare_nuclei.astype('int')\n",
    "cancer.info()"
   ]
  },
  {
   "cell_type": "code",
   "execution_count": 173,
   "metadata": {},
   "outputs": [
    {
     "data": {
      "image/png": "[encoded data removed]",
      "text/plain": [
       "<matplotlib.figure.Figure at 0x28968630160>"
      ]
     },
     "metadata": {},
     "output_type": "display_data"
    },
    {
     "data": {
      "image/png": "[encoded data removed]",
      "text/plain": [
       "<matplotlib.figure.Figure at 0x2896915efd0>"
      ]
     },
     "metadata": {},
     "output_type": "display_data"
    },
    {
     "data": {
      "image/png": "[encoded data removed]",
      "text/plain": [
       "<matplotlib.figure.Figure at 0x289691808d0>"
      ]
     },
     "metadata": {},
     "output_type": "display_data"
    },
    {
     "data": {
      "image/png": "[encoded data removed]",
      "text/plain": [
       "<matplotlib.figure.Figure at 0x28969258ef0>"
      ]
     },
     "metadata": {},
     "output_type": "display_data"
    },
    {
     "data": {
      "image/png": "[encoded data removed]",
      "text/plain": [
       "<matplotlib.figure.Figure at 0x2896914a8d0>"
      ]
     },
     "metadata": {},
     "output_type": "display_data"
    },
    {
     "data": {
      "image/png": "[encoded data removed]",
      "text/plain": [
       "<matplotlib.figure.Figure at 0x2896910c710>"
      ]
     },
     "metadata": {},
     "output_type": "display_data"
    },
    {
     "data": {
      "image/png": "[encoded data removed]",
      "text/plain": [
       "<matplotlib.figure.Figure at 0x289691fe358>"
      ]
     },
     "metadata": {},
     "output_type": "display_data"
    },
    {
     "data": {
      "image/png": "[encoded data removed]",
      "text/plain": [
       "<matplotlib.figure.Figure at 0x2896916e748>"
      ]
     },
     "metadata": {},
     "output_type": "display_data"
    },
    {
     "data": {
      "image/png": "[encoded data removed]",
      "text/plain": [
       "<matplotlib.figure.Figure at 0x2896955f898>"
      ]
     },
     "metadata": {},
     "output_type": "display_data"
    },
    {
     "data": {
      "image/png": "[encoded data removed]",
      "text/plain": [
       "<matplotlib.figure.Figure at 0x2896955fa20>"
      ]
     },
     "metadata": {},
     "output_type": "display_data"
    }
   ],
   "source": [
    "for col in (list(cancer.columns)[1:]):\n",
    "    sns.countplot(y=col, hue='Class', data=cancer)\n",
    "    plt.show()"
   ]
  },
  {
   "cell_type": "code",
   "execution_count": 108,
   "metadata": {},
   "outputs": [
    {
     "data": {
      "image/png": "[encoded data removed]",
      "text/plain": [
       "<matplotlib.figure.Figure at 0x289686307b8>"
      ]
     },
     "metadata": {},
     "output_type": "display_data"
    }
   ],
   "source": [
    "plt.figure(figsize=(12,8))\n",
    "g = sns.heatmap(cancer.loc[:, 'Thickness': 'Class'].corr(), annot=True)\n",
    "g.set_xticklabels(g.get_xticklabels(), rotation=45)\n",
    "plt.show()"
   ]
  },
  {
   "cell_type": "code",
   "execution_count": 134,
   "metadata": {},
   "outputs": [
    {
     "data": {
      "text/plain": [
       "1     579\n",
       "2      35\n",
       "3      33\n",
       "10     14\n",
       "4      12\n",
       "7       9\n",
       "8       8\n",
       "5       6\n",
       "6       3\n",
       "Name: Mitoses, dtype: int64"
      ]
     },
     "execution_count": 134,
     "metadata": {},
     "output_type": "execute_result"
    }
   ],
   "source": [
    "# Uni_cell_size and Uni_cell_shape are very similar, keep only shape\n",
    "# Mitoses has little correlation and is mostly a bunch of 1s\n",
    "cancer.Mitoses.value_counts()"
   ]
  },
  {
   "cell_type": "code",
   "execution_count": 174,
   "metadata": {
    "collapsed": true
   },
   "outputs": [],
   "source": [
    "from sklearn import model_selection\n",
    "\n",
    "# Create X and y\n",
    "\n",
    "y = cancer.Class\n",
    "X = cancer.drop(['Class', 'ID', 'Uni_cell_size', 'Mitoses'], axis=1)\n",
    "\n",
    "# Split into train and test\n",
    "X_train, X_test, y_train, y_test = model_selection.train_test_split(X, y)"
   ]
  },
  {
   "cell_type": "markdown",
   "metadata": {},
   "source": [
    "# kNN\n",
    "\n",
    "All variables are on the same scale and seem to have a linear relationship with Class"
   ]
  },
  {
   "cell_type": "code",
   "execution_count": 175,
   "metadata": {},
   "outputs": [
    {
     "name": "stdout",
     "output_type": "stream",
     "text": [
      "Class    0   1  All\n",
      "row_0              \n",
      "0      115   1  116\n",
      "1        3  56   59\n",
      "All    118  57  175\n"
     ]
    },
    {
     "data": {
      "text/plain": [
       "KNeighborsClassifier(algorithm='auto', leaf_size=30, metric='minkowski',\n",
       "           metric_params=None, n_jobs=1, n_neighbors=5, p=1,\n",
       "           weights='uniform')"
      ]
     },
     "execution_count": 175,
     "metadata": {},
     "output_type": "execute_result"
    }
   ],
   "source": [
    "from sklearn.neighbors import KNeighborsClassifier\n",
    "\n",
    "\n",
    "# Using GridSearch for optimal n\n",
    "params = {'n_neighbors': np.arange(1, 21,2),\n",
    "         'weights': ['uniform', 'distance'],\n",
    "         'p': [1]}\n",
    "nn = KNeighborsClassifier()\n",
    "grid = model_selection.GridSearchCV(nn, params)\n",
    "\n",
    "#Fit on train data\n",
    "grid.fit(X_train, y_train)\n",
    "\n",
    "#Apply to test\n",
    "y_pred = grid.predict(X_test)\n",
    "y_pred_probs = grid.predict_proba(X_test)\n",
    "table_pd = pd.DataFrame(pd.crosstab(y_pred, y_test, margins=True))\n",
    "print(table_pd)\n",
    "\n",
    "\n",
    "grid.best_estimator_\n"
   ]
  },
  {
   "cell_type": "code",
   "execution_count": 176,
   "metadata": {},
   "outputs": [
    {
     "name": "stdout",
     "output_type": "stream",
     "text": [
      "0.971428571429\n",
      "Class    0   1\n",
      "row_0         \n",
      "0      115   2\n",
      "1        3  55\n",
      "Accuracy is:  0.971428571429\n",
      "Sensitivity is:  0.964912280702\n",
      "Precision is:  0.974576271186\n"
     ]
    }
   ],
   "source": [
    "# Using GridSearch params\n",
    "nn = KNeighborsClassifier(algorithm='auto', leaf_size=30, metric='minkowski',\n",
    "           metric_params=None, n_jobs=1, n_neighbors=1, p=1,\n",
    "           weights='uniform')\n",
    "nn.fit(X_train, y_train)\n",
    "\n",
    "# Test fit\n",
    "y_hat = nn.predict(X_test)\n",
    "scored = nn.score(X_test, y_test)\n",
    "print(scored)\n",
    "\n",
    "cross = pd.crosstab(y_hat, y_test)\n",
    "print(cross)\n",
    "acc = (cross[0][0]+cross[1][1])/len(y_hat)\n",
    "sensitive = cross[1][1]/(cross[1][0]+cross[1][1])\n",
    "precision = cross[0][0]/(cross[0][1]+cross[0][0])\n",
    "print('Accuracy is: ', acc)\n",
    "print('Sensitivity is: ', sensitive)\n",
    "print('Precision is: ', precision)\n",
    "                         \n"
   ]
  },
  {
   "cell_type": "markdown",
   "metadata": {},
   "source": [
    "The model is pretty accurate, but the missed cases of cancer should be improved as this carries a high cost."
   ]
  },
  {
   "cell_type": "code",
   "execution_count": 177,
   "metadata": {},
   "outputs": [
    {
     "name": "stdout",
     "output_type": "stream",
     "text": [
      "Class    0   1\n",
      "row_0         \n",
      "0      115   2\n",
      "1        3  55\n",
      "Accuracy is:  0.971428571429\n",
      "Sensitivity is:  0.964912280702\n"
     ]
    }
   ],
   "source": [
    "proba = nn.predict_proba(X_test)[:,1]\n",
    "\n",
    "threshold = np.where(proba>0.2,1,0)\n",
    "cross = pd.crosstab(threshold, y_test)\n",
    "print(cross)\n",
    "acc = (cross[0][0]+cross[1][1])/len(y_hat)\n",
    "sensitive = cross[1][1]/(cross[1][0]+cross[1][1])\n",
    "print('Accuracy is: ', acc)\n",
    "print('Sensitivity is: ', sensitive)"
   ]
  },
  {
   "cell_type": "markdown",
   "metadata": {},
   "source": [
    "Setting the threshold to 0.2 doesn't alter sensitivity."
   ]
  },
  {
   "cell_type": "code",
   "execution_count": 178,
   "metadata": {},
   "outputs": [
    {
     "name": "stdout",
     "output_type": "stream",
     "text": [
      "[ 0.84        0.875       1.          0.95833333  1.          1.\n",
      "  0.95833333  0.95833333  0.95833333  1.        ]\n"
     ]
    }
   ],
   "source": [
    "# Checking for overfitting\n",
    "scoring = 'recall'\n",
    "nn = KNeighborsClassifier(algorithm='auto', leaf_size=30, metric='minkowski',\n",
    "           metric_params=None, n_jobs=1, n_neighbors=5, p=1,\n",
    "           weights='uniform')\n",
    "nn_cv = model_selection.cross_val_score(nn, X, y, cv = 10, scoring = scoring)\n",
    "print(nn_cv)"
   ]
  },
  {
   "cell_type": "markdown",
   "metadata": {},
   "source": [
    "Therefore some concern about overfitting."
   ]
  },
  {
   "cell_type": "markdown",
   "metadata": {
    "collapsed": true
   },
   "source": [
    "## Logistic regression"
   ]
  },
  {
   "cell_type": "code",
   "execution_count": 179,
   "metadata": {},
   "outputs": [
    {
     "name": "stdout",
     "output_type": "stream",
     "text": [
      "Class    0   1\n",
      "row_0         \n",
      "0      101   0\n",
      "1       17  57\n",
      "Accuracy is:  0.902857142857\n",
      "Sensitivity is:  1.0\n"
     ]
    }
   ],
   "source": [
    "from sklearn import linear_model\n",
    "\n",
    "# Create instance and fit data\n",
    "ls = linear_model.LogisticRegression()\n",
    "ls.fit(X_train, y_train)\n",
    "\n",
    "# Test\n",
    "y_hat = ls.predict_proba(X_test)[:,1]\n",
    "\n",
    "# Setting a low threshold\n",
    "threshold = np.where(y_hat>0.1,1,0)\n",
    "cross = pd.crosstab(threshold, y_test)\n",
    "print(cross)\n",
    "acc = (cross[0][0]+cross[1][1])/len(y_hat)\n",
    "sensitive = cross[1][1]/(cross[1][0]+cross[1][1])\n",
    "print('Accuracy is: ', acc)\n",
    "print('Sensitivity is: ', sensitive)"
   ]
  },
  {
   "cell_type": "code",
   "execution_count": 185,
   "metadata": {},
   "outputs": [
    {
     "name": "stdout",
     "output_type": "stream",
     "text": [
      "[ 0.88235294  0.75        0.875       0.9375      1.          0.9375      1.\n",
      "  0.9375      1.          0.875       1.          0.9375      0.875       1.\n",
      "  1.        ]\n"
     ]
    }
   ],
   "source": [
    "# Checking for overfitting\n",
    "scoring = 'recall'\n",
    "lm = linear_model.LogisticRegression()\n",
    "lm_cv = model_selection.cross_val_score(lm, X, y, cv = 15, scoring = scoring)\n",
    "print(lm_cv)"
   ]
  },
  {
   "cell_type": "markdown",
   "metadata": {},
   "source": [
    "CV indicates that the model is still overfitting, but it is also possible that the second fold doesn't have enough malign observations to meaningfully apply the model (e.g. if there are only 4 malignant observations in a particular fold and it misclassifies one)."
   ]
  },
  {
   "cell_type": "code",
   "execution_count": 181,
   "metadata": {},
   "outputs": [
    {
     "name": "stdout",
     "output_type": "stream",
     "text": [
      "Optimization terminated successfully.\n",
      "         Current function value: 0.104173\n",
      "         Iterations 9\n",
      "                           Logit Regression Results                           \n",
      "==============================================================================\n",
      "Dep. Variable:                  Class   No. Observations:                  524\n",
      "Model:                          Logit   Df Residuals:                      516\n",
      "Method:                           MLE   Df Model:                            7\n",
      "Date:                Fri, 16 Mar 2018   Pseudo R-squ.:                  0.8393\n",
      "Time:                        12:48:37   Log-Likelihood:                -54.587\n",
      "converged:                       True   LL-Null:                       -339.63\n",
      "                                        LLR p-value:                6.697e-119\n",
      "==================================================================================\n",
      "                     coef    std err          z      P>|z|      [0.025      0.975]\n",
      "----------------------------------------------------------------------------------\n",
      "const             -8.5391      0.969     -8.815      0.000     -10.438      -6.640\n",
      "Thickness          0.6029      0.137      4.412      0.000       0.335       0.871\n",
      "Uni_cell_shape     0.4386      0.186      2.364      0.018       0.075       0.802\n",
      "Adhesion           0.2158      0.110      1.968      0.049       0.001       0.431\n",
      "Epi_cell_size      0.0399      0.149      0.267      0.790      -0.253       0.333\n",
      "Bare_nuclei        0.3034      0.090      3.364      0.001       0.127       0.480\n",
      "Chromatin          0.2828      0.163      1.740      0.082      -0.036       0.601\n",
      "Norm_nucleoli      0.1563      0.107      1.459      0.144      -0.054       0.366\n",
      "==================================================================================\n"
     ]
    }
   ],
   "source": [
    "import statsmodels.api as sm\n",
    "\n",
    "X_train = sm.add_constant(X_train)\n",
    "X_test = sm.add_constant(X_test)\n",
    "\n",
    "logit = sm.Logit(y_train, X_train)\n",
    "result = logit.fit()\n",
    "print(result.summary())"
   ]
  },
  {
   "cell_type": "code",
   "execution_count": 183,
   "metadata": {},
   "outputs": [
    {
     "name": "stdout",
     "output_type": "stream",
     "text": [
      "Class    0   1\n",
      "row_0         \n",
      "0      103   0\n",
      "1       15  57\n",
      "Accuracy is:  0.914285714286\n",
      "Sensitivity is:  1.0\n"
     ]
    }
   ],
   "source": [
    "# Removing Norm_nucleoli and Epi_cell_size\n",
    "\n",
    "ls = linear_model.LogisticRegression()\n",
    "ls.fit(X_train.drop(['Norm_nucleoli','Epi_cell_size'], axis=1), y_train)\n",
    "\n",
    "# Test\n",
    "y_hat = ls.predict_proba(X_test.drop(['Norm_nucleoli','Epi_cell_size'], axis=1))[:,1]\n",
    "\n",
    "# Setting a low threshold\n",
    "threshold = np.where(y_hat>0.1,1,0)\n",
    "cross = pd.crosstab(threshold, y_test)\n",
    "print(cross)\n",
    "acc = (cross[0][0]+cross[1][1])/len(y_hat)\n",
    "sensitive = cross[1][1]/(cross[1][0]+cross[1][1])\n",
    "print('Accuracy is: ', acc)\n",
    "print('Sensitivity is: ', sensitive)"
   ]
  },
  {
   "cell_type": "code",
   "execution_count": 184,
   "metadata": {},
   "outputs": [
    {
     "name": "stdout",
     "output_type": "stream",
     "text": [
      "[ 0.88        0.79166667  1.          0.95833333  1.          1.\n",
      "  0.91666667  1.          0.91666667  0.95833333]\n"
     ]
    }
   ],
   "source": [
    "scoring = 'recall'\n",
    "lm = linear_model.LogisticRegression()\n",
    "lm_cv = model_selection.cross_val_score(lm, X.drop(['Norm_nucleoli','Epi_cell_size'], axis=1), y, cv = 10, scoring = scoring)\n",
    "print(lm_cv)"
   ]
  },
  {
   "cell_type": "code",
   "execution_count": 188,
   "metadata": {},
   "outputs": [
    {
     "name": "stdout",
     "output_type": "stream",
     "text": [
      "Class   0   1\n",
      "row_0        \n",
      "0      46   0\n",
      "1       0  25\n",
      "Accuracy for fold 1 is 1.0\n",
      "Sensitivity for fold 1 is 1.0\n",
      "Class   0   1\n",
      "row_0        \n",
      "0      46   0\n",
      "1       0  24\n",
      "Accuracy for fold 2 is 1.0\n",
      "Sensitivity for fold 2 is 1.0\n",
      "Class   0   1\n",
      "row_0        \n",
      "0      46   0\n",
      "1       0  24\n",
      "Accuracy for fold 3 is 1.0\n",
      "Sensitivity for fold 3 is 1.0\n",
      "Class   0   1\n",
      "row_0        \n",
      "0      46   0\n",
      "1       0  24\n",
      "Accuracy for fold 4 is 1.0\n",
      "Sensitivity for fold 4 is 1.0\n",
      "Class   0   1\n",
      "row_0        \n",
      "0      46   0\n",
      "1       0  24\n",
      "Accuracy for fold 5 is 1.0\n",
      "Sensitivity for fold 5 is 1.0\n",
      "Class   0   1\n",
      "row_0        \n",
      "0      45   0\n",
      "1       1  24\n",
      "Accuracy for fold 6 is 0.9857142857142858\n",
      "Sensitivity for fold 6 is 1.0\n",
      "Class   0   1\n",
      "row_0        \n",
      "0      46   0\n",
      "1       0  24\n",
      "Accuracy for fold 7 is 1.0\n",
      "Sensitivity for fold 7 is 1.0\n",
      "Class   0   1\n",
      "row_0        \n",
      "0      46   0\n",
      "1       0  24\n",
      "Accuracy for fold 8 is 1.0\n",
      "Sensitivity for fold 8 is 1.0\n",
      "Class   0   1\n",
      "row_0        \n",
      "0      45   0\n",
      "1       0  24\n",
      "Accuracy for fold 9 is 1.0\n",
      "Sensitivity for fold 9 is 1.0\n",
      "Class   0   1\n",
      "row_0        \n",
      "0      45   0\n",
      "1       0  24\n",
      "Accuracy for fold 10 is 1.0\n",
      "Sensitivity for fold 10 is 1.0\n"
     ]
    }
   ],
   "source": [
    "# Try StratiefiedKFold\n",
    "count = 0\n",
    "skf = model_selection.StratifiedKFold(n_splits=10, shuffle=True)\n",
    "for train_index, test_index in skf.split(X.drop(['Norm_nucleoli','Epi_cell_size'], axis=1), y):\n",
    "    Xs_train, Xs_test = X.iloc[train_index], X.iloc[test_index]\n",
    "    ys_train, ys_test = y.iloc[train_index], y.iloc[test_index]\n",
    "    lm = linear_model.LogisticRegression()\n",
    "    lm.fit(Xs_train, ys_train)\n",
    "    y_hat = rf.predict_proba(Xs_test)[:,1]\n",
    "    # Threshold of 0.5\n",
    "    threshold = np.where(y_hat>0.5,1,0)\n",
    "    cross = pd.crosstab(threshold, ys_test)\n",
    "    print(cross)\n",
    "    acc = (cross[0][0]+cross[1][1])/len(y_hat)\n",
    "    sensitive = cross[1][1]/(cross[1][0]+cross[1][1])\n",
    "    count += 1\n",
    "    print('Accuracy for fold {} is {}'.format(count, acc))\n",
    "    print('Sensitivity for fold {} is {}'.format(count, sensitive))"
   ]
  },
  {
   "cell_type": "markdown",
   "metadata": {},
   "source": [
    "I should probably just stop here... "
   ]
  },
  {
   "cell_type": "markdown",
   "metadata": {},
   "source": [
    "## Gradient boosting"
   ]
  },
  {
   "cell_type": "code",
   "execution_count": 148,
   "metadata": {},
   "outputs": [
    {
     "name": "stdout",
     "output_type": "stream",
     "text": [
      "Class    0   1\n",
      "row_0         \n",
      "0      106   8\n",
      "1        4  57\n",
      "Accuracy is:  0.931428571429\n",
      "Sensitivity is:  0.876923076923\n"
     ]
    }
   ],
   "source": [
    "from sklearn import ensemble\n",
    "# Gradient boost with default hyperparameters\n",
    "gbc = ensemble.GradientBoostingClassifier()\n",
    "gbc.fit(X_train, y_train)\n",
    "\n",
    "# Testing prediction\n",
    "y_hat = gbc.predict_proba(X_test)[:,1]\n",
    "\n",
    "# Assume threshold of .5\n",
    "threshold = np.where(y_hat>0.5,1,0)\n",
    "cross = pd.crosstab(threshold, y_test)\n",
    "print(cross)\n",
    "acc = (cross[0][0]+cross[1][1])/len(y_hat)\n",
    "sensitive = cross[1][1]/(cross[1][0]+cross[1][1])\n",
    "print('Accuracy is: ', acc)\n",
    "print('Sensitivity is: ', sensitive)"
   ]
  },
  {
   "cell_type": "code",
   "execution_count": 149,
   "metadata": {},
   "outputs": [
    {
     "name": "stdout",
     "output_type": "stream",
     "text": [
      "Class    0   1\n",
      "row_0         \n",
      "0      106   3\n",
      "1        4  62\n",
      "Accuracy is:  0.96\n",
      "Sensitivity is:  0.953846153846\n"
     ]
    }
   ],
   "source": [
    "# Assume threshold of .5\n",
    "threshold = np.where(y_hat>0.1,1,0)\n",
    "cross = pd.crosstab(threshold, y_test)\n",
    "print(cross)\n",
    "acc = (cross[0][0]+cross[1][1])/len(y_hat)\n",
    "sensitive = cross[1][1]/(cross[1][0]+cross[1][1])\n",
    "print('Accuracy is: ', acc)\n",
    "print('Sensitivity is: ', sensitive)"
   ]
  },
  {
   "cell_type": "code",
   "execution_count": 150,
   "metadata": {},
   "outputs": [
    {
     "name": "stdout",
     "output_type": "stream",
     "text": [
      "[ 0.88        0.75        1.          0.91666667  1.          1.\n",
      "  0.95833333  1.          0.95833333  0.95833333]\n"
     ]
    }
   ],
   "source": [
    "# Checking for overfitting\n",
    "scoring = 'recall'\n",
    "gbc = ensemble.GradientBoostingClassifier()\n",
    "gbc_cv = model_selection.cross_val_score(gbc, X, y, cv = 10, scoring = scoring)\n",
    "print(gbc_cv)"
   ]
  },
  {
   "cell_type": "markdown",
   "metadata": {},
   "source": [
    "## Random forest"
   ]
  },
  {
   "cell_type": "code",
   "execution_count": 151,
   "metadata": {},
   "outputs": [
    {
     "name": "stdout",
     "output_type": "stream",
     "text": [
      "[ 0.92        0.79166667  0.91666667  0.95833333  1.          1.          0.875\n",
      "  1.          0.95833333  0.95833333]\n"
     ]
    }
   ],
   "source": [
    "scoring = 'recall'\n",
    "rf = ensemble.RandomForestClassifier()\n",
    "rf_cv = model_selection.cross_val_score(rf, X, y, cv = 10, scoring = scoring)\n",
    "print(rf_cv)"
   ]
  },
  {
   "cell_type": "markdown",
   "metadata": {},
   "source": [
    "The low CV scores for all of the models, particularly for the second fold, indicates that some of the samples may have too few malignant (Class=1) observations. This is possible as the data is somewhat unbalanced (33% malignant).\n",
    "\n",
    "This can be tested through a manual K-fold process with stratified y."
   ]
  },
  {
   "cell_type": "code",
   "execution_count": 187,
   "metadata": {},
   "outputs": [
    {
     "name": "stdout",
     "output_type": "stream",
     "text": [
      "Class   0   1\n",
      "row_0        \n",
      "0      45   1\n",
      "1       1  24\n",
      "Accuracy for fold 1 is 0.971830985915493\n",
      "Sensitivity for fold 1 is 0.96\n",
      "Class   0   1\n",
      "row_0        \n",
      "0      46   2\n",
      "1       0  22\n",
      "Accuracy for fold 2 is 0.9714285714285714\n",
      "Sensitivity for fold 2 is 0.9166666666666666\n",
      "Class   0   1\n",
      "row_0        \n",
      "0      46   3\n",
      "1       0  21\n",
      "Accuracy for fold 3 is 0.9571428571428572\n",
      "Sensitivity for fold 3 is 0.875\n",
      "Class   0   1\n",
      "row_0        \n",
      "0      46   2\n",
      "1       0  22\n",
      "Accuracy for fold 4 is 0.9714285714285714\n",
      "Sensitivity for fold 4 is 0.9166666666666666\n",
      "Class   0   1\n",
      "row_0        \n",
      "0      43   0\n",
      "1       3  24\n",
      "Accuracy for fold 5 is 0.9571428571428572\n",
      "Sensitivity for fold 5 is 1.0\n",
      "Class   0   1\n",
      "row_0        \n",
      "0      44   1\n",
      "1       2  23\n",
      "Accuracy for fold 6 is 0.9571428571428572\n",
      "Sensitivity for fold 6 is 0.9583333333333334\n",
      "Class   0   1\n",
      "row_0        \n",
      "0      39   2\n",
      "1       7  22\n",
      "Accuracy for fold 7 is 0.8714285714285714\n",
      "Sensitivity for fold 7 is 0.9166666666666666\n",
      "Class   0   1\n",
      "row_0        \n",
      "0      46   2\n",
      "1       0  22\n",
      "Accuracy for fold 8 is 0.9714285714285714\n",
      "Sensitivity for fold 8 is 0.9166666666666666\n",
      "Class   0   1\n",
      "row_0        \n",
      "0      44   2\n",
      "1       1  22\n",
      "Accuracy for fold 9 is 0.9565217391304348\n",
      "Sensitivity for fold 9 is 0.9166666666666666\n",
      "Class   0   1\n",
      "row_0        \n",
      "0      44   0\n",
      "1       1  24\n",
      "Accuracy for fold 10 is 0.9855072463768116\n",
      "Sensitivity for fold 10 is 1.0\n"
     ]
    }
   ],
   "source": [
    "# Try StratiefiedKFold\n",
    "count = 0\n",
    "skf = model_selection.StratifiedKFold(n_splits=10, shuffle=True)\n",
    "for train_index, test_index in skf.split(X, y):\n",
    "    Xs_train, Xs_test = X.iloc[train_index], X.iloc[test_index]\n",
    "    ys_train, ys_test = y.iloc[train_index], y.iloc[test_index]\n",
    "    rf = ensemble.RandomForestClassifier()\n",
    "    rf.fit(Xs_train, ys_train)\n",
    "    y_hat = rf.predict_proba(Xs_test)[:,1]\n",
    "    # Threshold of 0.3\n",
    "    threshold = np.where(y_hat>0.5,1,0)\n",
    "    cross = pd.crosstab(threshold, ys_test)\n",
    "    print(cross)\n",
    "    acc = (cross[0][0]+cross[1][1])/len(y_hat)\n",
    "    sensitive = cross[1][1]/(cross[1][0]+cross[1][1])\n",
    "    count += 1\n",
    "    print('Accuracy for fold {} is {}'.format(count, acc))\n",
    "    print('Sensitivity for fold {} is {}'.format(count, sensitive))"
   ]
  },
  {
   "cell_type": "markdown",
   "metadata": {},
   "source": [
    "While the range is still big - bewteen 0.87 and 1.0 - it is a much better result than than the CV with no stratified sampling."
   ]
  },
  {
   "cell_type": "markdown",
   "metadata": {},
   "source": [
    "# Conclusion"
   ]
  },
  {
   "cell_type": "markdown",
   "metadata": {},
   "source": [
    "All the models perform relatively well in terms of accuracy and precision. Given that this is a cancer detection model the emphasis is placed on accurately detecting cancer and minimizing the number of false negatives (where there is a malignant cancer but it is wrongly classified as benign).\n",
    "\n",
    "The cross-validation scores showed that some overfitting may be happening in the models, but using a better sampling strategy for the CV suggests that it was a poor sample rather than overfitting in most of the models.\n",
    "\n",
    "The simplified logit model is the best model and has the added bonus of interpretation of the coefficients."
   ]
  },
  {
   "cell_type": "code",
   "execution_count": null,
   "metadata": {
    "collapsed": true
   },
   "outputs": [],
   "source": []
  }
 ],
 "metadata": {
  "kernelspec": {
   "display_name": "Python 3",
   "language": "python",
   "name": "python3"
  },
  "language_info": {
   "codemirror_mode": {
    "name": "ipython",
    "version": 3
   },
   "file_extension": ".py",
   "mimetype": "text/x-python",
   "name": "python",
   "nbconvert_exporter": "python",
   "pygments_lexer": "ipython3",
   "version": "3.6.1"
  }
 },
 "nbformat": 4,
 "nbformat_minor": 2
}
