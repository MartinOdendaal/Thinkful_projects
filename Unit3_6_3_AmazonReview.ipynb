{
 "cells": [
  {
   "cell_type": "markdown",
   "metadata": {},
   "source": [
    "# Challenge: Amazon Reviews\n",
    "\n",
    "Use one of the [following datasets](http://jmcauley.ucsd.edu/data/amazon/) to perform sentiment analysis on the given Amazon reviews. Pick one of the \"small\" datasets that is a reasonable size for your computer. The goal is to create a model to algorithmically predict if a review is positive or negative just based on its text. Try to see how these reviews compare across categories. Does a review classification model for one category work for another?\n",
    "\n",
    "Dataset: Grocery and Gourmet Food Ratings (1,297,156 ratings)"
   ]
  },
  {
   "cell_type": "code",
   "execution_count": null,
   "metadata": {
    "collapsed": true
   },
   "outputs": [],
   "source": [
    "import numpy as np\n",
    "import pandas as pd\n",
    "import matplotlib.pylab as plt\n",
    "import seaborn as sns\n",
    "%matplotlib inline"
   ]
  },
  {
   "cell_type": "code",
   "execution_count": null,
   "metadata": {
    "collapsed": true
   },
   "outputs": [],
   "source": [
    "grocery = 'Grocery_and_Gourmet_Food_5.json'\n",
    "with open(grocery) as grocery_load:\n",
    "    all_entries = grocery_load.readlines()\n",
    "    \n",
    "parsable_data = \"[\" + ','.join(all_entries).replace('\\n', '') + \"]\"\n",
    "\n",
    "\n",
    "amazon = pd.read_json(parsable_data, orient='columns', typ='frame')\n",
    "amazon.head()"
   ]
  },
  {
   "cell_type": "code",
   "execution_count": null,
   "metadata": {
    "collapsed": true
   },
   "outputs": [],
   "source": [
    "amazon.drop(['asin', 'helpful', 'reviewTime', 'reviewerID', 'reviewerName',\n",
    "             'summary', 'unixReviewTime'], axis=1, inplace=True)"
   ]
  },
  {
   "cell_type": "code",
   "execution_count": null,
   "metadata": {
    "collapsed": true
   },
   "outputs": [],
   "source": [
    "amazon.info()"
   ]
  },
  {
   "cell_type": "markdown",
   "metadata": {},
   "source": [
    "## Getting the data into shape"
   ]
  },
  {
   "cell_type": "code",
   "execution_count": 5,
   "metadata": {
    "collapsed": true
   },
   "outputs": [],
   "source": [
    "import string\n",
    "\n",
    "# Creating features\n",
    "\n",
    "# Remove capitals\n",
    "amazon.reviewText = amazon.reviewText.apply(lambda x: x.lower())\n",
    "\n",
    "# Remove stops \n",
    "# import nltk\n",
    "# stem\n",
    "# can do sentiment analysis\n",
    "\n",
    "# Load negative words\n",
    "words = pd.read_csv('negative-words.txt', sep='\\t', header= None,\n",
    "                    comment=';', encoding='latin-1', names=['colname1'])\n",
    "words_positive = pd.read_csv('positive-words.txt', sep='\\t', header= None,\n",
    "                             comment=';', encoding='latin-1', names=['colname1'])\n",
    "\n",
    "# Dropping duplicate words (e.g. bull**** and bull----)\n",
    "words = words.loc[words.colname1 != 'bull****', :]\n",
    "words = words.loc[words.colname1 != 'far-fetched', :]\n",
    "words = words.loc[words.colname1 != 'f**k', :]\n",
    "\n",
    "\n",
    "# Remove punctuation\n",
    "# There must be an easier way!\n",
    "def remove_punctuation(value):\n",
    "    result = \"\"\n",
    "    for c in value:\n",
    "        # If char is not punctuation, add it to the result.\n",
    "        if c not in string.punctuation:\n",
    "            result += c\n",
    "    return result\n",
    "amazon.reviewText = amazon.reviewText.apply(lambda x: remove_punctuation(x))"
   ]
  },
  {
   "cell_type": "code",
   "execution_count": 6,
   "metadata": {
    "collapsed": true
   },
   "outputs": [],
   "source": [
    "def featuresSet(words, amazon):\n",
    "    ''' Function takes df of words, and creates features if\n",
    "    that word is in amazon review.\n",
    "    Keeps only features with highest counts.\n",
    "    Returns new feature dataset\n",
    "    '''\n",
    "    featureslist = []\n",
    "    for i in range(0, 4801, 50):\n",
    "        # Only create 50 features at a time\n",
    "        features = amazon.loc[:, ['reviewText']]\n",
    "        for word in words.colname1[i-50:i]:\n",
    "            # Create column for each word (1 if word in review)\n",
    "            features[word] = features['reviewText'].str.contains(\" \" + word + \" \")\n",
    "        # Create count of word appearance\n",
    "        topwords = features.sum(axis=0, numeric_only=True).sort_values(ascending=False)\n",
    "        # Select only features with more than 1,000 appearances\n",
    "        topwords = list(topwords.index[topwords>500])\n",
    "        features = features.loc[:, features.columns.isin(topwords)]\n",
    "        print(\"Done for: \", i)\n",
    "        featureslist.append(features)\n",
    "    return featureslist\n",
    "            \n"
   ]
  },
  {
   "cell_type": "code",
   "execution_count": 7,
   "metadata": {},
   "outputs": [
    {
     "name": "stdout",
     "output_type": "stream",
     "text": [
      "Done for:  0\n",
      "Done for:  50\n",
      "Done for:  100\n",
      "Done for:  150\n",
      "Done for:  200\n",
      "Done for:  250\n",
      "Done for:  300\n",
      "Done for:  350\n",
      "Done for:  400\n",
      "Done for:  450\n",
      "Done for:  500\n",
      "Done for:  550\n",
      "Done for:  600\n",
      "Done for:  650\n",
      "Done for:  700\n",
      "Done for:  750\n",
      "Done for:  800\n",
      "Done for:  850\n",
      "Done for:  900\n",
      "Done for:  950\n",
      "Done for:  1000\n",
      "Done for:  1050\n",
      "Done for:  1100\n",
      "Done for:  1150\n",
      "Done for:  1200\n",
      "Done for:  1250\n",
      "Done for:  1300\n",
      "Done for:  1350\n",
      "Done for:  1400\n",
      "Done for:  1450\n",
      "Done for:  1500\n",
      "Done for:  1550\n",
      "Done for:  1600\n",
      "Done for:  1650\n",
      "Done for:  1700\n",
      "Done for:  1750\n",
      "Done for:  1800\n",
      "Done for:  1850\n",
      "Done for:  1900\n",
      "Done for:  1950\n",
      "Done for:  2000\n",
      "Done for:  2050\n",
      "Done for:  2100\n",
      "Done for:  2150\n",
      "Done for:  2200\n",
      "Done for:  2250\n",
      "Done for:  2300\n",
      "Done for:  2350\n",
      "Done for:  2400\n",
      "Done for:  2450\n",
      "Done for:  2500\n",
      "Done for:  2550\n",
      "Done for:  2600\n",
      "Done for:  2650\n",
      "Done for:  2700\n",
      "Done for:  2750\n",
      "Done for:  2800\n",
      "Done for:  2850\n",
      "Done for:  2900\n",
      "Done for:  2950\n",
      "Done for:  3000\n",
      "Done for:  3050\n",
      "Done for:  3100\n",
      "Done for:  3150\n",
      "Done for:  3200\n",
      "Done for:  3250\n",
      "Done for:  3300\n",
      "Done for:  3350\n",
      "Done for:  3400\n",
      "Done for:  3450\n",
      "Done for:  3500\n",
      "Done for:  3550\n",
      "Done for:  3600\n",
      "Done for:  3650\n",
      "Done for:  3700\n",
      "Done for:  3750\n",
      "Done for:  3800\n",
      "Done for:  3850\n",
      "Done for:  3900\n",
      "Done for:  3950\n",
      "Done for:  4000\n",
      "Done for:  4050\n",
      "Done for:  4100\n",
      "Done for:  4150\n",
      "Done for:  4200\n",
      "Done for:  4250\n",
      "Done for:  4300\n",
      "Done for:  4350\n",
      "Done for:  4400\n",
      "Done for:  4450\n",
      "Done for:  4500\n",
      "Done for:  4550\n",
      "Done for:  4600\n",
      "Done for:  4650\n",
      "Done for:  4700\n",
      "Done for:  4750\n",
      "Done for:  4800\n"
     ]
    }
   ],
   "source": [
    "# Use featureSet to creat list of dfs\n",
    "pdlist = featuresSet(words, amazon)\n",
    "\n",
    "# Create X\n",
    "Xneg = pd.concat(pdlist, axis=1)"
   ]
  },
  {
   "cell_type": "code",
   "execution_count": 8,
   "metadata": {},
   "outputs": [
    {
     "name": "stdout",
     "output_type": "stream",
     "text": [
      "Done for:  0\n",
      "Done for:  50\n",
      "Done for:  100\n",
      "Done for:  150\n",
      "Done for:  200\n",
      "Done for:  250\n",
      "Done for:  300\n",
      "Done for:  350\n",
      "Done for:  400\n",
      "Done for:  450\n",
      "Done for:  500\n",
      "Done for:  550\n",
      "Done for:  600\n",
      "Done for:  650\n",
      "Done for:  700\n",
      "Done for:  750\n",
      "Done for:  800\n",
      "Done for:  850\n",
      "Done for:  900\n",
      "Done for:  950\n",
      "Done for:  1000\n",
      "Done for:  1050\n",
      "Done for:  1100\n",
      "Done for:  1150\n",
      "Done for:  1200\n",
      "Done for:  1250\n",
      "Done for:  1300\n",
      "Done for:  1350\n",
      "Done for:  1400\n",
      "Done for:  1450\n",
      "Done for:  1500\n",
      "Done for:  1550\n",
      "Done for:  1600\n",
      "Done for:  1650\n",
      "Done for:  1700\n",
      "Done for:  1750\n",
      "Done for:  1800\n",
      "Done for:  1850\n",
      "Done for:  1900\n",
      "Done for:  1950\n",
      "Done for:  2000\n",
      "Done for:  2050\n",
      "Done for:  2100\n",
      "Done for:  2150\n",
      "Done for:  2200\n",
      "Done for:  2250\n",
      "Done for:  2300\n",
      "Done for:  2350\n",
      "Done for:  2400\n",
      "Done for:  2450\n",
      "Done for:  2500\n",
      "Done for:  2550\n",
      "Done for:  2600\n",
      "Done for:  2650\n",
      "Done for:  2700\n",
      "Done for:  2750\n",
      "Done for:  2800\n",
      "Done for:  2850\n",
      "Done for:  2900\n",
      "Done for:  2950\n",
      "Done for:  3000\n",
      "Done for:  3050\n",
      "Done for:  3100\n",
      "Done for:  3150\n",
      "Done for:  3200\n",
      "Done for:  3250\n",
      "Done for:  3300\n",
      "Done for:  3350\n",
      "Done for:  3400\n",
      "Done for:  3450\n",
      "Done for:  3500\n",
      "Done for:  3550\n",
      "Done for:  3600\n",
      "Done for:  3650\n",
      "Done for:  3700\n",
      "Done for:  3750\n",
      "Done for:  3800\n",
      "Done for:  3850\n",
      "Done for:  3900\n",
      "Done for:  3950\n",
      "Done for:  4000\n",
      "Done for:  4050\n",
      "Done for:  4100\n",
      "Done for:  4150\n",
      "Done for:  4200\n",
      "Done for:  4250\n",
      "Done for:  4300\n",
      "Done for:  4350\n",
      "Done for:  4400\n",
      "Done for:  4450\n",
      "Done for:  4500\n",
      "Done for:  4550\n",
      "Done for:  4600\n",
      "Done for:  4650\n",
      "Done for:  4700\n",
      "Done for:  4750\n",
      "Done for:  4800\n"
     ]
    },
    {
     "ename": "NameError",
     "evalue": "name 'pos_pdlist2' is not defined",
     "output_type": "error",
     "traceback": [
      "\u001b[1;31m---------------------------------------------------------------------------\u001b[0m",
      "\u001b[1;31mNameError\u001b[0m                                 Traceback (most recent call last)",
      "\u001b[1;32m<ipython-input-8-b253277e2049>\u001b[0m in \u001b[0;36m<module>\u001b[1;34m()\u001b[0m\n\u001b[0;32m      2\u001b[0m \u001b[0mpos_pdlist\u001b[0m \u001b[1;33m=\u001b[0m \u001b[0mfeaturesSet\u001b[0m\u001b[1;33m(\u001b[0m\u001b[0mwords_positive\u001b[0m\u001b[1;33m,\u001b[0m \u001b[0mamazon\u001b[0m\u001b[1;33m)\u001b[0m\u001b[1;33m\u001b[0m\u001b[0m\n\u001b[0;32m      3\u001b[0m \u001b[1;31m# Join into one df\u001b[0m\u001b[1;33m\u001b[0m\u001b[1;33m\u001b[0m\u001b[0m\n\u001b[1;32m----> 4\u001b[1;33m \u001b[0mposX\u001b[0m \u001b[1;33m=\u001b[0m \u001b[0mpd\u001b[0m\u001b[1;33m.\u001b[0m\u001b[0mconcat\u001b[0m\u001b[1;33m(\u001b[0m\u001b[0mpos_pdlist2\u001b[0m\u001b[1;33m,\u001b[0m \u001b[0maxis\u001b[0m\u001b[1;33m=\u001b[0m\u001b[1;36m1\u001b[0m\u001b[1;33m)\u001b[0m\u001b[1;33m\u001b[0m\u001b[0m\n\u001b[0m",
      "\u001b[1;31mNameError\u001b[0m: name 'pos_pdlist2' is not defined"
     ]
    }
   ],
   "source": [
    "#list of df of positive words\n",
    "pos_pdlist = featuresSet(words_positive, amazon)\n"
   ]
  },
  {
   "cell_type": "code",
   "execution_count": 9,
   "metadata": {
    "scrolled": true
   },
   "outputs": [
    {
     "name": "stdout",
     "output_type": "stream",
     "text": [
      "Index(['addicted', 'allergic', 'allergies', 'awful', 'bad', 'bitter',\n",
      "       'bitterness', 'bland', 'boil', 'boiling',\n",
      "       ...\n",
      "       'upset', 'waste', 'weak', 'weird', 'wild', 'worried', 'worry', 'worse',\n",
      "       'worst', 'wrong'],\n",
      "      dtype='object', length=110)\n",
      "Index(['a+', 'affordable', 'amazing', 'appeal', 'appealing', 'appreciate',\n",
      "       'authentic', 'available', 'awesome', 'balanced',\n",
      "       ...\n",
      "       'well', 'willing', 'winner', 'wonder', 'wonderful', 'work', 'worked',\n",
      "       'works', 'worth', 'wow'],\n",
      "      dtype='object', length=146)\n"
     ]
    },
    {
     "data": {
      "text/plain": [
       "Index(['addicted', 'allergic', 'allergies', 'awful', 'bad', 'bitter',\n",
       "       'bitterness', 'bland', 'boil', 'boiling',\n",
       "       ...\n",
       "       'well', 'willing', 'winner', 'wonder', 'wonderful', 'work', 'worked',\n",
       "       'works', 'worth', 'wow'],\n",
       "      dtype='object', length=256)"
      ]
     },
     "execution_count": 9,
     "metadata": {},
     "output_type": "execute_result"
    }
   ],
   "source": [
    "# Join into one df\n",
    "posX = pd.concat(pos_pdlist, axis=1)\n",
    "\n",
    "print(Xneg.columns)\n",
    "print(posX.columns)\n",
    "# Join pos and neg\n",
    "X = pd.concat([Xneg, posX], axis=1)\n",
    "X.columns"
   ]
  },
  {
   "cell_type": "code",
   "execution_count": 22,
   "metadata": {},
   "outputs": [
    {
     "data": {
      "image/png": "[encoded data removed]",
      "text/plain": [
       "<matplotlib.figure.Figure at 0x19a142e2be0>"
      ]
     },
     "metadata": {},
     "output_type": "display_data"
    }
   ],
   "source": [
    "# Looking at the reviews\n",
    "\n",
    "plt.hist(amazon.overall)\n",
    "plt.show()"
   ]
  },
  {
   "cell_type": "code",
   "execution_count": 9,
   "metadata": {},
   "outputs": [
    {
     "name": "stdout",
     "output_type": "stream",
     "text": [
      "5    87446\n",
      "4    32598\n",
      "3    17514\n",
      "2     7917\n",
      "1     5779\n",
      "Name: overall, dtype: int64\n"
     ]
    }
   ],
   "source": [
    "print(amazon.overall.value_counts())"
   ]
  },
  {
   "cell_type": "markdown",
   "metadata": {},
   "source": [
    "\n",
    "Most of the reviews (58%) give 5 stars. This makes the determining if a review is 'postive' and 'negative' review somewhat difficult; particularly what does a 3 or 4 star review means in this context? Here I assume that anything less than a 5 star review is a negative review - as the reviewer would've found some fault with the product not to assign 5 stars. Note that this probably doesn't hold for all reviewers (some may only give 5 stars for a truly exceptional product) and of course every reviewer uses a different metric (e.g. value for money versus quality)."
   ]
  },
  {
   "cell_type": "code",
   "execution_count": 10,
   "metadata": {
    "collapsed": true
   },
   "outputs": [],
   "source": [
    "from sklearn import model_selection\n",
    "\n",
    "# Create binary measure (only 5 stars is a good review)\n",
    "amazon['goodreview'] = np.where(amazon.overall>4, 1, 0)\n",
    "\n",
    "# Split out y\n",
    "y = amazon.loc[:, 'goodreview']\n",
    "\n",
    "X_train, X_test, y_train, y_test = model_selection.train_test_split(X, y)"
   ]
  },
  {
   "cell_type": "markdown",
   "metadata": {},
   "source": [
    "# Model 1: Naive Bayes"
   ]
  },
  {
   "cell_type": "code",
   "execution_count": 143,
   "metadata": {},
   "outputs": [
    {
     "data": {
      "image/png": "[encoded data removed]",
      "text/plain": [
       "<matplotlib.figure.Figure at 0x1484c09c4a8>"
      ]
     },
     "metadata": {},
     "output_type": "display_data"
    }
   ],
   "source": [
    "# Check (a slice) of assumptions\n",
    "plt.figure(figsize=(15,10))\n",
    "sns.heatmap(X.iloc[:, 0:20].corr())\n",
    "plt.show()"
   ]
  },
  {
   "cell_type": "code",
   "execution_count": 11,
   "metadata": {},
   "outputs": [
    {
     "name": "stdout",
     "output_type": "stream",
     "text": [
      "goodreview     0      1\n",
      "row_0                  \n",
      "0           8623   4123\n",
      "1           7332  17736\n",
      "Accuracy is:  0.697069868303\n",
      "Sensitivity is:  0.811382039435\n",
      "Specificity is:  0.540457536822\n"
     ]
    }
   ],
   "source": [
    "from sklearn.naive_bayes import BernoulliNB\n",
    "\n",
    "# from sklearn.naive_bayes import BernoulliNB\n",
    "bnb = BernoulliNB()\n",
    "bnb.fit(X_train, y_train)\n",
    "\n",
    "# Use on test data\n",
    "y_hat = bnb.predict(X_test)\n",
    "cross = pd.crosstab(y_hat, y_test)\n",
    "print(cross)\n",
    "acc = (cross[0][0]+cross[1][1])/len(y_hat)\n",
    "sensitive = cross[1][1]/(cross[1][0]+cross[1][1])\n",
    "specificity = cross[0][0]/(cross[0][0] + cross[0][1])\n",
    "print('Accuracy is: ', acc)\n",
    "print('Sensitivity is: ', sensitive)\n",
    "print('Specificity is: ', specificity)"
   ]
  },
  {
   "cell_type": "code",
   "execution_count": 12,
   "metadata": {},
   "outputs": [
    {
     "name": "stdout",
     "output_type": "stream",
     "text": [
      "[ 0.67701309  0.69025817  0.6967373   0.7187438   0.68704132]\n"
     ]
    }
   ],
   "source": [
    "# Check CV use only accuracy\n",
    "bnb = BernoulliNB()\n",
    "cv = model_selection.cross_val_score(bnb, X, y, cv = 5)\n",
    "print(cv)"
   ]
  },
  {
   "cell_type": "markdown",
   "metadata": {},
   "source": [
    "## Model 2: Random forest classifier"
   ]
  },
  {
   "cell_type": "code",
   "execution_count": 18,
   "metadata": {},
   "outputs": [
    {
     "name": "stdout",
     "output_type": "stream",
     "text": [
      "goodreview      0      1    All\n",
      "row_0                          \n",
      "0            8821   4975  13796\n",
      "1            7134  16884  24018\n",
      "All         15955  21859  37814\n"
     ]
    },
    {
     "data": {
      "text/plain": [
       "RandomForestClassifier(bootstrap=True, class_weight=None, criterion='gini',\n",
       "            max_depth=None, max_features='auto', max_leaf_nodes=None,\n",
       "            min_impurity_split=1e-07, min_samples_leaf=1,\n",
       "            min_samples_split=2, min_weight_fraction_leaf=0.0,\n",
       "            n_estimators=100, n_jobs=1, oob_score=False, random_state=None,\n",
       "            verbose=0, warm_start=False)"
      ]
     },
     "execution_count": 18,
     "metadata": {},
     "output_type": "execute_result"
    }
   ],
   "source": [
    "# Gridsearch for optimal parameters\n",
    "\n",
    "# Gridsearch to find optimal values of some of the hyperparameters\n",
    "# Adjusting n_estimators to build more complex trees\n",
    "# Not adjusting max_features - auto works best\n",
    "# Adjusting min_sample_split to prevent overfitting (could also try max_depth or min_sample_leaf)\n",
    "\n",
    "params = { \"n_estimators\" : [5,10,50,100]}\n",
    "\n",
    "# Initialize the model\n",
    "rf = ensemble.RandomForestClassifier()\n",
    "\n",
    "# Apply GridSearch to the model\n",
    "grid = model_selection.GridSearchCV(rf, params)\n",
    "\n",
    "#Fit on train datase\n",
    "grid.fit(X_train, y_train)\n",
    "y_pred = grid.predict(X_test)\n",
    "y_pred_probs = grid.predict_proba(X_test)\n",
    "table_pd = pd.DataFrame(pd.crosstab(y_pred, y_test, margins=True))\n",
    "print(table_pd)\n",
    "\n",
    "grid.best_estimator_"
   ]
  },
  {
   "cell_type": "code",
   "execution_count": 21,
   "metadata": {},
   "outputs": [
    {
     "name": "stdout",
     "output_type": "stream",
     "text": [
      "goodreview     0      1\n",
      "row_0                  \n",
      "0           8860   4956\n",
      "1           7095  16903\n",
      "Accuracy is:  0.681308510076\n",
      "Sensitivity is:  0.773274166247\n",
      "Specificity is:  0.555311814478\n"
     ]
    }
   ],
   "source": [
    "from sklearn import ensemble\n",
    "\n",
    "# Create instance\n",
    "rf = ensemble.RandomForestClassifier(n_estimators=100)\n",
    "rf.fit(X_train, y_train)\n",
    "\n",
    "# Testing prediction\n",
    "y_hat = rf.predict_proba(X_test)[:,1]\n",
    "\n",
    "# Assume threshold of .5\n",
    "threshold = np.where(y_hat>0.5,1,0)\n",
    "cross = pd.crosstab(threshold, y_test)\n",
    "print(cross)\n",
    "acc = (cross[0][0]+cross[1][1])/len(y_hat)\n",
    "sensitive = cross[1][1]/(cross[1][0]+cross[1][1])\n",
    "specificity = cross[0][0]/(cross[0][0] + cross[0][1])\n",
    "print('Accuracy is: ', acc)\n",
    "print('Sensitivity is: ', sensitive)\n",
    "print('Specificity is: ', specificity)"
   ]
  },
  {
   "cell_type": "code",
   "execution_count": 22,
   "metadata": {},
   "outputs": [
    {
     "data": {
      "image/png": "[encoded data removed]",
      "text/plain": [
       "<matplotlib.figure.Figure at 0x1d7fb6a0278>"
      ]
     },
     "metadata": {},
     "output_type": "display_data"
    }
   ],
   "source": [
    "from sklearn import metrics \n",
    "\n",
    "# Getting ROC\n",
    "\n",
    "preds = rf.predict_proba(X_test)[:,1]\n",
    "fpr, tpr, threshold = metrics.roc_curve(y_test, preds)\n",
    "roc_auc = metrics.auc(fpr, tpr)\n",
    "\n",
    "plt.title('Receiver Operating Characteristic')\n",
    "plt.plot(fpr, tpr, 'b', label='AUC = %0.2f'% roc_auc)\n",
    "plt.legend(loc='lower right')\n",
    "plt.plot([0,1],[0,1],'r--')\n",
    "plt.xlim([-0.1,1.2])\n",
    "plt.ylim([-0.1,1.2])\n",
    "plt.ylabel('True Positive Rate')\n",
    "plt.xlabel('False Positive Rate')\n",
    "plt.show()"
   ]
  },
  {
   "cell_type": "code",
   "execution_count": 15,
   "metadata": {},
   "outputs": [
    {
     "name": "stdout",
     "output_type": "stream",
     "text": [
      "[ 0.65899775  0.65968067  0.66268884  0.67705785  0.65444628]\n"
     ]
    }
   ],
   "source": [
    "# Check CV use only accuracy\n",
    "rf = ensemble.RandomForestClassifier()\n",
    "cv = model_selection.cross_val_score(rf, X, y, cv = 5)\n",
    "print(cv)"
   ]
  },
  {
   "cell_type": "markdown",
   "metadata": {},
   "source": [
    "## Model 3: Gradient boosting"
   ]
  },
  {
   "cell_type": "code",
   "execution_count": 16,
   "metadata": {},
   "outputs": [
    {
     "name": "stdout",
     "output_type": "stream",
     "text": [
      "goodreview     0      1\n",
      "row_0                  \n",
      "0           7587   3424\n",
      "1           8368  18435\n",
      "Accuracy is:  0.688157825144\n",
      "Sensitivity is:  0.843359714534\n",
      "Specificity is:  0.47552491382\n"
     ]
    }
   ],
   "source": [
    "# Gradient boost with default hyperparameters\n",
    "gbc = ensemble.GradientBoostingClassifier()\n",
    "gbc.fit(X_train, y_train)\n",
    "\n",
    "# Testing prediction\n",
    "y_hat = gbc.predict_proba(X_test)[:,1]\n",
    "\n",
    "# Assume threshold of .5\n",
    "threshold = np.where(y_hat>0.,1,0)\n",
    "cross = pd.crosstab(threshold, y_test)\n",
    "print(cross)\n",
    "acc = (cross[0][0]+cross[1][1])/len(y_hat)\n",
    "sensitive = cross[1][1]/(cross[1][0]+cross[1][1])\n",
    "specificity = cross[0][0]/(cross[0][0] + cross[0][1])\n",
    "print('Accuracy is: ', acc)\n",
    "print('Sensitivity is: ', sensitive)\n",
    "print('Specificity is: ', specificity)\n"
   ]
  },
  {
   "cell_type": "code",
   "execution_count": null,
   "metadata": {
    "collapsed": true
   },
   "outputs": [],
   "source": [
    "# Assume threshold of .5\n",
    "threshold = np.where(y_hat>0.,1,0)\n",
    "cross = pd.crosstab(threshold, y_test)\n",
    "print(cross)\n",
    "acc = (cross[0][0]+cross[1][1])/len(y_hat)\n",
    "sensitive = cross[1][1]/(cross[1][0]+cross[1][1])\n",
    "specificity = cross[0][0]/(cross[0][0] + cross[0][1])\n",
    "print('Accuracy is: ', acc)\n",
    "print('Sensitivity is: ', sensitive)\n",
    "print('Specificity is: ', specificity)"
   ]
  },
  {
   "cell_type": "code",
   "execution_count": 17,
   "metadata": {},
   "outputs": [
    {
     "name": "stdout",
     "output_type": "stream",
     "text": [
      "[ 0.65899775  0.65968067  0.66268884  0.67705785  0.65444628]\n"
     ]
    }
   ],
   "source": [
    "# Check CV use only accuracy\n",
    "gbc = ensemble.GradientBoostingClassifier()\n",
    "gbc = model_selection.cross_val_score(gbc, X, y, cv = 5)\n",
    "print(cv)"
   ]
  },
  {
   "cell_type": "markdown",
   "metadata": {
    "collapsed": true
   },
   "source": [
    "## Logistic regression"
   ]
  },
  {
   "cell_type": "code",
   "execution_count": 31,
   "metadata": {},
   "outputs": [
    {
     "name": "stdout",
     "output_type": "stream",
     "text": [
      "goodreview     0      1\n",
      "row_0                  \n",
      "0           8769   3870\n",
      "1           7186  17989\n",
      "Accuracy is:  0.707621515841\n",
      "Sensitivity is:  0.822956219406\n",
      "Specificity is:  0.549608273269\n"
     ]
    }
   ],
   "source": [
    "from sklearn import linear_model\n",
    "\n",
    "# Running logit with Ridge penalty\n",
    "logit = linear_model.LogisticRegression()\n",
    "logit.fit(X_train, y_train)\n",
    "\n",
    "# Getting predicted y from test\n",
    "y_hat = logit.predict_proba(X_test)[:,1]\n",
    "\n",
    "# Assume threshold of .5\n",
    "threshold = np.where(y_hat>0.5,1,0)\n",
    "cross = pd.crosstab(threshold, y_test)\n",
    "print(cross)\n",
    "acc = (cross[0][0]+cross[1][1])/len(y_hat)\n",
    "sensitive = cross[1][1]/(cross[1][0]+cross[1][1])\n",
    "specificity = cross[0][0]/(cross[0][0] + cross[0][1])\n",
    "print('Accuracy is: ', acc)\n",
    "print('Sensitivity is: ', sensitive)\n",
    "print('Specificity is: ', specificity)"
   ]
  },
  {
   "cell_type": "code",
   "execution_count": 32,
   "metadata": {},
   "outputs": [
    {
     "data": {
      "image/png": "[encoded data removed]",
      "text/plain": [
       "<matplotlib.figure.Figure at 0x1d7fb7c7f28>"
      ]
     },
     "metadata": {},
     "output_type": "display_data"
    }
   ],
   "source": [
    "preds = logit.predict_proba(X_test)[:,1]\n",
    "fpr, tpr, threshold = metrics.roc_curve(y_test, preds)\n",
    "roc_auc = metrics.auc(fpr, tpr)\n",
    "\n",
    "plt.title('Receiver Operating Characteristic')\n",
    "plt.plot(fpr, tpr, 'b', label='AUC = %0.2f'% roc_auc)\n",
    "plt.legend(loc='lower right')\n",
    "plt.plot([0,1],[0,1],'r--')\n",
    "plt.xlim([-0.1,1.2])\n",
    "plt.ylim([-0.1,1.2])\n",
    "plt.ylabel('True Positive Rate')\n",
    "plt.xlabel('False Positive Rate')\n",
    "plt.show()"
   ]
  },
  {
   "cell_type": "markdown",
   "metadata": {},
   "source": [
    "## Conclusion\n",
    "\n",
    "The models are surprisingly consistent in their accuracy, but there is some variance in specificity and precision. The accuracies of the models are still relatively low (between 0.68 and 0.7), particularly since the default strategy of always prediciting a good review has a 0.58 accuracy. However, given that the approach (matching a list of words and using this as a feature) cannot pick up any nuance or tone it may not be able to reach a much greater accuracy, although a more tailored list of words will get some gains. Using a more sophisticated approach (e.g. NLTK) is likely to get better results.\n",
    "\n"
   ]
  },
  {
   "cell_type": "code",
   "execution_count": null,
   "metadata": {
    "collapsed": true
   },
   "outputs": [],
   "source": []
  }
 ],
 "metadata": {
  "kernelspec": {
   "display_name": "Python 3",
   "language": "python",
   "name": "python3"
  },
  "language_info": {
   "codemirror_mode": {
    "name": "ipython",
    "version": 3
   },
   "file_extension": ".py",
   "mimetype": "text/x-python",
   "name": "python",
   "nbconvert_exporter": "python",
   "pygments_lexer": "ipython3",
   "version": "3.6.1"
  }
 },
 "nbformat": 4,
 "nbformat_minor": 2
}
